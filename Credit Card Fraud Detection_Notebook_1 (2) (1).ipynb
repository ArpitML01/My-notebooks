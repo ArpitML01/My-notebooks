{
 "cells": [
  {
   "cell_type": "code",
   "execution_count": 1,
   "id": "0e493ef2",
   "metadata": {},
   "outputs": [],
   "source": [
    "import pandas as pd\n",
    "import numpy as np \n",
    "import matplotlib.pyplot as plt\n",
    "import seaborn as sns\n",
    "import"
   ]
  },
  {
   "cell_type": "code",
   "execution_count": 2,
   "id": "3196d211",
   "metadata": {},
   "outputs": [],
   "source": [
    "df = pd.read_csv(r'/Users/kuberdutta/Downloads/archive (8)/fraudTrain.csv')"
   ]
  },
  {
   "cell_type": "code",
   "execution_count": 3,
   "id": "850e0575",
   "metadata": {},
   "outputs": [
    {
     "data": {
      "text/plain": [
       "(1296675, 23)"
      ]
     },
     "execution_count": 3,
     "metadata": {},
     "output_type": "execute_result"
    }
   ],
   "source": [
    "df.shape"
   ]
  },
  {
   "cell_type": "code",
   "execution_count": 4,
   "id": "98e4bf1a",
   "metadata": {},
   "outputs": [
    {
     "data": {
      "text/plain": [
       "Index(['Unnamed: 0', 'trans_date_trans_time', 'cc_num', 'merchant', 'category',\n",
       "       'amt', 'first', 'last', 'gender', 'street', 'city', 'state', 'zip',\n",
       "       'lat', 'long', 'city_pop', 'job', 'dob', 'trans_num', 'unix_time',\n",
       "       'merch_lat', 'merch_long', 'is_fraud'],\n",
       "      dtype='object')"
      ]
     },
     "execution_count": 4,
     "metadata": {},
     "output_type": "execute_result"
    }
   ],
   "source": [
    "df.columns"
   ]
  },
  {
   "cell_type": "code",
   "execution_count": 5,
   "id": "8df4f4bb",
   "metadata": {},
   "outputs": [
    {
     "name": "stdout",
     "output_type": "stream",
     "text": [
      "<class 'pandas.core.frame.DataFrame'>\n",
      "RangeIndex: 1296675 entries, 0 to 1296674\n",
      "Data columns (total 23 columns):\n",
      " #   Column                 Non-Null Count    Dtype  \n",
      "---  ------                 --------------    -----  \n",
      " 0   Unnamed: 0             1296675 non-null  int64  \n",
      " 1   trans_date_trans_time  1296675 non-null  object \n",
      " 2   cc_num                 1296675 non-null  int64  \n",
      " 3   merchant               1296675 non-null  object \n",
      " 4   category               1296675 non-null  object \n",
      " 5   amt                    1296675 non-null  float64\n",
      " 6   first                  1296675 non-null  object \n",
      " 7   last                   1296675 non-null  object \n",
      " 8   gender                 1296675 non-null  object \n",
      " 9   street                 1296675 non-null  object \n",
      " 10  city                   1296675 non-null  object \n",
      " 11  state                  1296675 non-null  object \n",
      " 12  zip                    1296675 non-null  int64  \n",
      " 13  lat                    1296675 non-null  float64\n",
      " 14  long                   1296675 non-null  float64\n",
      " 15  city_pop               1296675 non-null  int64  \n",
      " 16  job                    1296675 non-null  object \n",
      " 17  dob                    1296675 non-null  object \n",
      " 18  trans_num              1296675 non-null  object \n",
      " 19  unix_time              1296675 non-null  int64  \n",
      " 20  merch_lat              1296675 non-null  float64\n",
      " 21  merch_long             1296675 non-null  float64\n",
      " 22  is_fraud               1296675 non-null  int64  \n",
      "dtypes: float64(5), int64(6), object(12)\n",
      "memory usage: 227.5+ MB\n"
     ]
    }
   ],
   "source": [
    "df.info()"
   ]
  },
  {
   "cell_type": "code",
   "execution_count": 6,
   "id": "57e23886",
   "metadata": {},
   "outputs": [
    {
     "data": {
      "text/plain": [
       "is_fraud\n",
       "0    1289169\n",
       "1       7506\n",
       "Name: count, dtype: int64"
      ]
     },
     "execution_count": 6,
     "metadata": {},
     "output_type": "execute_result"
    }
   ],
   "source": [
    "#Class imbalance:\n",
    "df.is_fraud.value_counts()"
   ]
  },
  {
   "cell_type": "markdown",
   "id": "49bbac06",
   "metadata": {},
   "source": [
    "# Technique to Handle Imbalance:\n",
    "Because the dataset is too large, we have the luxury to downsample the majority class\n",
    "which is \"Non-Fraud\" or 0"
   ]
  },
  {
   "cell_type": "code",
   "execution_count": 7,
   "id": "e0b3a550",
   "metadata": {},
   "outputs": [],
   "source": [
    "df1 = df[df['is_fraud']==0] # This is dataset with 0 values"
   ]
  },
  {
   "cell_type": "code",
   "execution_count": 8,
   "id": "0ae627db",
   "metadata": {},
   "outputs": [],
   "source": [
    "df2 = df[df['is_fraud']==1] # This is dataset with 1 values"
   ]
  },
  {
   "cell_type": "code",
   "execution_count": 9,
   "id": "f1984f37",
   "metadata": {},
   "outputs": [],
   "source": [
    "new_df = df1.head(7506)"
   ]
  },
  {
   "cell_type": "code",
   "execution_count": 10,
   "id": "ea37da25",
   "metadata": {},
   "outputs": [
    {
     "data": {
      "text/plain": [
       "(7506, 23)"
      ]
     },
     "execution_count": 10,
     "metadata": {},
     "output_type": "execute_result"
    }
   ],
   "source": [
    "new_df.shape"
   ]
  },
  {
   "cell_type": "code",
   "execution_count": 11,
   "id": "5ea64688",
   "metadata": {},
   "outputs": [
    {
     "data": {
      "text/plain": [
       "(7506, 23)"
      ]
     },
     "execution_count": 11,
     "metadata": {},
     "output_type": "execute_result"
    }
   ],
   "source": [
    "df2.shape"
   ]
  },
  {
   "cell_type": "code",
   "execution_count": 12,
   "id": "6fef6483",
   "metadata": {},
   "outputs": [],
   "source": [
    "final_df = pd.concat([new_df,df2],axis=0)"
   ]
  },
  {
   "cell_type": "code",
   "execution_count": 13,
   "id": "cc4e2efa",
   "metadata": {},
   "outputs": [
    {
     "data": {
      "text/plain": [
       "(15012, 23)"
      ]
     },
     "execution_count": 13,
     "metadata": {},
     "output_type": "execute_result"
    }
   ],
   "source": [
    "final_df.shape"
   ]
  },
  {
   "cell_type": "code",
   "execution_count": 14,
   "id": "9e16b2ca",
   "metadata": {},
   "outputs": [
    {
     "data": {
      "text/plain": [
       "is_fraud\n",
       "0    7506\n",
       "1    7506\n",
       "Name: count, dtype: int64"
      ]
     },
     "execution_count": 14,
     "metadata": {},
     "output_type": "execute_result"
    }
   ],
   "source": [
    "final_df.is_fraud.value_counts()"
   ]
  },
  {
   "cell_type": "markdown",
   "id": "4ed94cbe",
   "metadata": {},
   "source": [
    "# EDA"
   ]
  },
  {
   "cell_type": "code",
   "execution_count": 15,
   "id": "bac5e1d0",
   "metadata": {},
   "outputs": [
    {
     "name": "stdout",
     "output_type": "stream",
     "text": [
      "<class 'pandas.core.frame.DataFrame'>\n",
      "Index: 15012 entries, 0 to 1295733\n",
      "Data columns (total 23 columns):\n",
      " #   Column                 Non-Null Count  Dtype  \n",
      "---  ------                 --------------  -----  \n",
      " 0   Unnamed: 0             15012 non-null  int64  \n",
      " 1   trans_date_trans_time  15012 non-null  object \n",
      " 2   cc_num                 15012 non-null  int64  \n",
      " 3   merchant               15012 non-null  object \n",
      " 4   category               15012 non-null  object \n",
      " 5   amt                    15012 non-null  float64\n",
      " 6   first                  15012 non-null  object \n",
      " 7   last                   15012 non-null  object \n",
      " 8   gender                 15012 non-null  object \n",
      " 9   street                 15012 non-null  object \n",
      " 10  city                   15012 non-null  object \n",
      " 11  state                  15012 non-null  object \n",
      " 12  zip                    15012 non-null  int64  \n",
      " 13  lat                    15012 non-null  float64\n",
      " 14  long                   15012 non-null  float64\n",
      " 15  city_pop               15012 non-null  int64  \n",
      " 16  job                    15012 non-null  object \n",
      " 17  dob                    15012 non-null  object \n",
      " 18  trans_num              15012 non-null  object \n",
      " 19  unix_time              15012 non-null  int64  \n",
      " 20  merch_lat              15012 non-null  float64\n",
      " 21  merch_long             15012 non-null  float64\n",
      " 22  is_fraud               15012 non-null  int64  \n",
      "dtypes: float64(5), int64(6), object(12)\n",
      "memory usage: 2.7+ MB\n"
     ]
    }
   ],
   "source": [
    "final_df.info()"
   ]
  },
  {
   "cell_type": "code",
   "execution_count": 16,
   "id": "395ee78f",
   "metadata": {},
   "outputs": [],
   "source": [
    "# Kaunse Merchant hain jinke yahan jyada fraud hota\n",
    "# Frequency of same amount transaction -- for same customer -- nearby transaction time\n",
    "# State and City where transactions are more fraud\n",
    "# Which Category induces more Fraud\n",
    "# If there is a correlation between age and Fraud?\n",
    "# If there is a correlation between Job and Fraud?\n"
   ]
  },
  {
   "cell_type": "code",
   "execution_count": 17,
   "id": "c5ab31fd",
   "metadata": {},
   "outputs": [
    {
     "data": {
      "text/plain": [
       "693"
      ]
     },
     "execution_count": 17,
     "metadata": {},
     "output_type": "execute_result"
    }
   ],
   "source": [
    "# Merchant value Counts\n",
    "len(final_df.merchant.value_counts())"
   ]
  },
  {
   "cell_type": "code",
   "execution_count": 18,
   "id": "e03d90af",
   "metadata": {},
   "outputs": [],
   "source": [
    "# First Question Answered --->>> Merchants that do more Fraud"
   ]
  },
  {
   "cell_type": "code",
   "execution_count": null,
   "id": "79b12bca",
   "metadata": {},
   "outputs": [],
   "source": []
  },
  {
   "cell_type": "code",
   "execution_count": 19,
   "id": "f6b5972f",
   "metadata": {},
   "outputs": [],
   "source": [
    "#We will do Frequency Encoding on this\n",
    "# Frequency Encoding\n",
    "freq_encoding = final_df['merchant'].value_counts(normalize=True)\n",
    "final_df['merchant'] = final_df['merchant'].map(freq_encoding)"
   ]
  },
  {
   "cell_type": "code",
   "execution_count": 20,
   "id": "4056d09b",
   "metadata": {},
   "outputs": [
    {
     "data": {
      "text/plain": [
       "0          0.002065\n",
       "1          0.002864\n",
       "2          0.001132\n",
       "3          0.001399\n",
       "4          0.000933\n",
       "             ...   \n",
       "1295399    0.002798\n",
       "1295491    0.003197\n",
       "1295532    0.001932\n",
       "1295666    0.002265\n",
       "1295733    0.001799\n",
       "Name: merchant, Length: 15012, dtype: float64"
      ]
     },
     "execution_count": 20,
     "metadata": {},
     "output_type": "execute_result"
    }
   ],
   "source": [
    "final_df['merchant']"
   ]
  },
  {
   "cell_type": "code",
   "execution_count": 21,
   "id": "b6cd2252",
   "metadata": {},
   "outputs": [],
   "source": [
    "# Now Analyzing the City and State parameters where Fraud Happens More "
   ]
  },
  {
   "cell_type": "code",
   "execution_count": 22,
   "id": "b9b6d089",
   "metadata": {},
   "outputs": [],
   "source": [
    "df_filtered = final_df[final_df['is_fraud']==1]"
   ]
  },
  {
   "cell_type": "code",
   "execution_count": 23,
   "id": "52861fd3",
   "metadata": {},
   "outputs": [
    {
     "data": {
      "image/png": "[encoded data removed]",
      "text/plain": [
       "<Figure size 576x360 with 1 Axes>"
      ]
     },
     "metadata": {
      "needs_background": "light"
     },
     "output_type": "display_data"
    }
   ],
   "source": [
    "# Create Bar Plot\n",
    "plt.figure(figsize=(8,5))\n",
    "sns.barplot(x='is_fraud', y='state', data=df_filtered)\n",
    "\n",
    "# Labels & Title\n",
    "plt.xlabel(\"Category\")\n",
    "plt.ylabel(\"Value\")\n",
    "plt.title(\"Bar Plot of Category vs Value\")\n",
    "\n",
    "plt.show()"
   ]
  },
  {
   "cell_type": "code",
   "execution_count": 24,
   "id": "db6d5190",
   "metadata": {
    "scrolled": true
   },
   "outputs": [
    {
     "data": {
      "text/plain": [
       "is_fraud\n",
       "0    7506\n",
       "1    7506\n",
       "Name: count, dtype: int64"
      ]
     },
     "execution_count": 24,
     "metadata": {},
     "output_type": "execute_result"
    }
   ],
   "source": [
    "final_df['is_fraud'].value_counts()"
   ]
  },
  {
   "cell_type": "code",
   "execution_count": 25,
   "id": "6003e1de",
   "metadata": {},
   "outputs": [
    {
     "data": {
      "text/plain": [
       "state\n",
       "NY    1037\n",
       "TX    1012\n",
       "PA     901\n",
       "CA     655\n",
       "OH     587\n",
       "FL     523\n",
       "MI     521\n",
       "IL     509\n",
       "AL     451\n",
       "MO     439\n",
       "VA     392\n",
       "MN     374\n",
       "SC     353\n",
       "AR     349\n",
       "MD     329\n",
       "WI     324\n",
       "NE     323\n",
       "IA     313\n",
       "OK     312\n",
       "NC     308\n",
       "KS     304\n",
       "KY     304\n",
       "WV     303\n",
       "IN     281\n",
       "OR     273\n",
       "GA     262\n",
       "NJ     256\n",
       "TN     249\n",
       "WY     230\n",
       "MS     223\n",
       "WA     218\n",
       "LA     215\n",
       "ME     213\n",
       "CO     186\n",
       "NM     182\n",
       "VT     139\n",
       "SD     132\n",
       "MA     132\n",
       "ND     126\n",
       "UT     122\n",
       "AZ     108\n",
       "MT     101\n",
       "NH      94\n",
       "NV      75\n",
       "CT      74\n",
       "AK      50\n",
       "DC      46\n",
       "ID      44\n",
       "HI      32\n",
       "RI      17\n",
       "DE       9\n",
       "Name: count, dtype: int64"
      ]
     },
     "execution_count": 25,
     "metadata": {},
     "output_type": "execute_result"
    }
   ],
   "source": [
    "final_df['state'].value_counts()"
   ]
  },
  {
   "cell_type": "code",
   "execution_count": 26,
   "id": "cdd4a8eb",
   "metadata": {},
   "outputs": [
    {
     "data": {
      "text/html": [
       "<div>\n",
       "<style scoped>\n",
       "    .dataframe tbody tr th:only-of-type {\n",
       "        vertical-align: middle;\n",
       "    }\n",
       "\n",
       "    .dataframe tbody tr th {\n",
       "        vertical-align: top;\n",
       "    }\n",
       "\n",
       "    .dataframe thead th {\n",
       "        text-align: right;\n",
       "    }\n",
       "</style>\n",
       "<table border=\"1\" class=\"dataframe\">\n",
       "  <thead>\n",
       "    <tr style=\"text-align: right;\">\n",
       "      <th></th>\n",
       "      <th>state</th>\n",
       "      <th>is_fraud</th>\n",
       "    </tr>\n",
       "  </thead>\n",
       "  <tbody>\n",
       "    <tr>\n",
       "      <th>34</th>\n",
       "      <td>NY</td>\n",
       "      <td>555</td>\n",
       "    </tr>\n",
       "    <tr>\n",
       "      <th>43</th>\n",
       "      <td>TX</td>\n",
       "      <td>479</td>\n",
       "    </tr>\n",
       "    <tr>\n",
       "      <th>38</th>\n",
       "      <td>PA</td>\n",
       "      <td>458</td>\n",
       "    </tr>\n",
       "    <tr>\n",
       "      <th>4</th>\n",
       "      <td>CA</td>\n",
       "      <td>326</td>\n",
       "    </tr>\n",
       "    <tr>\n",
       "      <th>35</th>\n",
       "      <td>OH</td>\n",
       "      <td>321</td>\n",
       "    </tr>\n",
       "    <tr>\n",
       "      <th>9</th>\n",
       "      <td>FL</td>\n",
       "      <td>281</td>\n",
       "    </tr>\n",
       "    <tr>\n",
       "      <th>14</th>\n",
       "      <td>IL</td>\n",
       "      <td>248</td>\n",
       "    </tr>\n",
       "    <tr>\n",
       "      <th>22</th>\n",
       "      <td>MI</td>\n",
       "      <td>238</td>\n",
       "    </tr>\n",
       "    <tr>\n",
       "      <th>1</th>\n",
       "      <td>AL</td>\n",
       "      <td>215</td>\n",
       "    </tr>\n",
       "    <tr>\n",
       "      <th>23</th>\n",
       "      <td>MN</td>\n",
       "      <td>207</td>\n",
       "    </tr>\n",
       "    <tr>\n",
       "      <th>45</th>\n",
       "      <td>VA</td>\n",
       "      <td>198</td>\n",
       "    </tr>\n",
       "    <tr>\n",
       "      <th>40</th>\n",
       "      <td>SC</td>\n",
       "      <td>193</td>\n",
       "    </tr>\n",
       "    <tr>\n",
       "      <th>24</th>\n",
       "      <td>MO</td>\n",
       "      <td>191</td>\n",
       "    </tr>\n",
       "    <tr>\n",
       "      <th>29</th>\n",
       "      <td>NE</td>\n",
       "      <td>180</td>\n",
       "    </tr>\n",
       "    <tr>\n",
       "      <th>48</th>\n",
       "      <td>WI</td>\n",
       "      <td>163</td>\n",
       "    </tr>\n",
       "    <tr>\n",
       "      <th>2</th>\n",
       "      <td>AR</td>\n",
       "      <td>161</td>\n",
       "    </tr>\n",
       "    <tr>\n",
       "      <th>20</th>\n",
       "      <td>MD</td>\n",
       "      <td>157</td>\n",
       "    </tr>\n",
       "    <tr>\n",
       "      <th>16</th>\n",
       "      <td>KS</td>\n",
       "      <td>156</td>\n",
       "    </tr>\n",
       "    <tr>\n",
       "      <th>17</th>\n",
       "      <td>KY</td>\n",
       "      <td>155</td>\n",
       "    </tr>\n",
       "    <tr>\n",
       "      <th>37</th>\n",
       "      <td>OR</td>\n",
       "      <td>149</td>\n",
       "    </tr>\n",
       "    <tr>\n",
       "      <th>27</th>\n",
       "      <td>NC</td>\n",
       "      <td>149</td>\n",
       "    </tr>\n",
       "    <tr>\n",
       "      <th>10</th>\n",
       "      <td>GA</td>\n",
       "      <td>146</td>\n",
       "    </tr>\n",
       "    <tr>\n",
       "      <th>49</th>\n",
       "      <td>WV</td>\n",
       "      <td>146</td>\n",
       "    </tr>\n",
       "    <tr>\n",
       "      <th>36</th>\n",
       "      <td>OK</td>\n",
       "      <td>143</td>\n",
       "    </tr>\n",
       "    <tr>\n",
       "      <th>15</th>\n",
       "      <td>IN</td>\n",
       "      <td>142</td>\n",
       "    </tr>\n",
       "    <tr>\n",
       "      <th>12</th>\n",
       "      <td>IA</td>\n",
       "      <td>142</td>\n",
       "    </tr>\n",
       "    <tr>\n",
       "      <th>42</th>\n",
       "      <td>TN</td>\n",
       "      <td>140</td>\n",
       "    </tr>\n",
       "    <tr>\n",
       "      <th>21</th>\n",
       "      <td>ME</td>\n",
       "      <td>119</td>\n",
       "    </tr>\n",
       "    <tr>\n",
       "      <th>31</th>\n",
       "      <td>NJ</td>\n",
       "      <td>118</td>\n",
       "    </tr>\n",
       "    <tr>\n",
       "      <th>25</th>\n",
       "      <td>MS</td>\n",
       "      <td>115</td>\n",
       "    </tr>\n",
       "    <tr>\n",
       "      <th>5</th>\n",
       "      <td>CO</td>\n",
       "      <td>113</td>\n",
       "    </tr>\n",
       "    <tr>\n",
       "      <th>50</th>\n",
       "      <td>WY</td>\n",
       "      <td>110</td>\n",
       "    </tr>\n",
       "    <tr>\n",
       "      <th>47</th>\n",
       "      <td>WA</td>\n",
       "      <td>96</td>\n",
       "    </tr>\n",
       "    <tr>\n",
       "      <th>18</th>\n",
       "      <td>LA</td>\n",
       "      <td>91</td>\n",
       "    </tr>\n",
       "    <tr>\n",
       "      <th>32</th>\n",
       "      <td>NM</td>\n",
       "      <td>82</td>\n",
       "    </tr>\n",
       "    <tr>\n",
       "      <th>41</th>\n",
       "      <td>SD</td>\n",
       "      <td>74</td>\n",
       "    </tr>\n",
       "    <tr>\n",
       "      <th>46</th>\n",
       "      <td>VT</td>\n",
       "      <td>72</td>\n",
       "    </tr>\n",
       "    <tr>\n",
       "      <th>19</th>\n",
       "      <td>MA</td>\n",
       "      <td>69</td>\n",
       "    </tr>\n",
       "    <tr>\n",
       "      <th>44</th>\n",
       "      <td>UT</td>\n",
       "      <td>61</td>\n",
       "    </tr>\n",
       "    <tr>\n",
       "      <th>30</th>\n",
       "      <td>NH</td>\n",
       "      <td>59</td>\n",
       "    </tr>\n",
       "    <tr>\n",
       "      <th>28</th>\n",
       "      <td>ND</td>\n",
       "      <td>57</td>\n",
       "    </tr>\n",
       "    <tr>\n",
       "      <th>33</th>\n",
       "      <td>NV</td>\n",
       "      <td>47</td>\n",
       "    </tr>\n",
       "    <tr>\n",
       "      <th>3</th>\n",
       "      <td>AZ</td>\n",
       "      <td>37</td>\n",
       "    </tr>\n",
       "    <tr>\n",
       "      <th>0</th>\n",
       "      <td>AK</td>\n",
       "      <td>36</td>\n",
       "    </tr>\n",
       "    <tr>\n",
       "      <th>26</th>\n",
       "      <td>MT</td>\n",
       "      <td>32</td>\n",
       "    </tr>\n",
       "    <tr>\n",
       "      <th>7</th>\n",
       "      <td>DC</td>\n",
       "      <td>21</td>\n",
       "    </tr>\n",
       "    <tr>\n",
       "      <th>6</th>\n",
       "      <td>CT</td>\n",
       "      <td>16</td>\n",
       "    </tr>\n",
       "    <tr>\n",
       "      <th>39</th>\n",
       "      <td>RI</td>\n",
       "      <td>15</td>\n",
       "    </tr>\n",
       "    <tr>\n",
       "      <th>13</th>\n",
       "      <td>ID</td>\n",
       "      <td>11</td>\n",
       "    </tr>\n",
       "    <tr>\n",
       "      <th>8</th>\n",
       "      <td>DE</td>\n",
       "      <td>9</td>\n",
       "    </tr>\n",
       "    <tr>\n",
       "      <th>11</th>\n",
       "      <td>HI</td>\n",
       "      <td>7</td>\n",
       "    </tr>\n",
       "  </tbody>\n",
       "</table>\n",
       "</div>"
      ],
      "text/plain": [
       "   state  is_fraud\n",
       "34    NY       555\n",
       "43    TX       479\n",
       "38    PA       458\n",
       "4     CA       326\n",
       "35    OH       321\n",
       "9     FL       281\n",
       "14    IL       248\n",
       "22    MI       238\n",
       "1     AL       215\n",
       "23    MN       207\n",
       "45    VA       198\n",
       "40    SC       193\n",
       "24    MO       191\n",
       "29    NE       180\n",
       "48    WI       163\n",
       "2     AR       161\n",
       "20    MD       157\n",
       "16    KS       156\n",
       "17    KY       155\n",
       "37    OR       149\n",
       "27    NC       149\n",
       "10    GA       146\n",
       "49    WV       146\n",
       "36    OK       143\n",
       "15    IN       142\n",
       "12    IA       142\n",
       "42    TN       140\n",
       "21    ME       119\n",
       "31    NJ       118\n",
       "25    MS       115\n",
       "5     CO       113\n",
       "50    WY       110\n",
       "47    WA        96\n",
       "18    LA        91\n",
       "32    NM        82\n",
       "41    SD        74\n",
       "46    VT        72\n",
       "19    MA        69\n",
       "44    UT        61\n",
       "30    NH        59\n",
       "28    ND        57\n",
       "33    NV        47\n",
       "3     AZ        37\n",
       "0     AK        36\n",
       "26    MT        32\n",
       "7     DC        21\n",
       "6     CT        16\n",
       "39    RI        15\n",
       "13    ID        11\n",
       "8     DE         9\n",
       "11    HI         7"
      ]
     },
     "execution_count": 26,
     "metadata": {},
     "output_type": "execute_result"
    }
   ],
   "source": [
    "final_df.groupby('state', as_index=False)['is_fraud'].sum().sort_values('is_fraud',ascending=False)"
   ]
  },
  {
   "cell_type": "code",
   "execution_count": 27,
   "id": "9e615300",
   "metadata": {},
   "outputs": [
    {
     "data": {
      "text/html": [
       "<div>\n",
       "<style scoped>\n",
       "    .dataframe tbody tr th:only-of-type {\n",
       "        vertical-align: middle;\n",
       "    }\n",
       "\n",
       "    .dataframe tbody tr th {\n",
       "        vertical-align: top;\n",
       "    }\n",
       "\n",
       "    .dataframe thead th {\n",
       "        text-align: right;\n",
       "    }\n",
       "</style>\n",
       "<table border=\"1\" class=\"dataframe\">\n",
       "  <thead>\n",
       "    <tr style=\"text-align: right;\">\n",
       "      <th></th>\n",
       "      <th>city</th>\n",
       "      <th>is_fraud</th>\n",
       "    </tr>\n",
       "  </thead>\n",
       "  <tbody>\n",
       "    <tr>\n",
       "      <th>359</th>\n",
       "      <td>Houston</td>\n",
       "      <td>39</td>\n",
       "    </tr>\n",
       "    <tr>\n",
       "      <th>832</th>\n",
       "      <td>Warren</td>\n",
       "      <td>33</td>\n",
       "    </tr>\n",
       "    <tr>\n",
       "      <th>553</th>\n",
       "      <td>Naples</td>\n",
       "      <td>29</td>\n",
       "    </tr>\n",
       "    <tr>\n",
       "      <th>368</th>\n",
       "      <td>Huntsville</td>\n",
       "      <td>29</td>\n",
       "    </tr>\n",
       "    <tr>\n",
       "      <th>802</th>\n",
       "      <td>Topeka</td>\n",
       "      <td>27</td>\n",
       "    </tr>\n",
       "    <tr>\n",
       "      <th>...</th>\n",
       "      <td>...</td>\n",
       "      <td>...</td>\n",
       "    </tr>\n",
       "    <tr>\n",
       "      <th>467</th>\n",
       "      <td>Malad City</td>\n",
       "      <td>0</td>\n",
       "    </tr>\n",
       "    <tr>\n",
       "      <th>464</th>\n",
       "      <td>Luray</td>\n",
       "      <td>0</td>\n",
       "    </tr>\n",
       "    <tr>\n",
       "      <th>463</th>\n",
       "      <td>Lubbock</td>\n",
       "      <td>0</td>\n",
       "    </tr>\n",
       "    <tr>\n",
       "      <th>459</th>\n",
       "      <td>Loving</td>\n",
       "      <td>0</td>\n",
       "    </tr>\n",
       "    <tr>\n",
       "      <th>888</th>\n",
       "      <td>Zavalla</td>\n",
       "      <td>0</td>\n",
       "    </tr>\n",
       "  </tbody>\n",
       "</table>\n",
       "<p>889 rows × 2 columns</p>\n",
       "</div>"
      ],
      "text/plain": [
       "           city  is_fraud\n",
       "359     Houston        39\n",
       "832      Warren        33\n",
       "553      Naples        29\n",
       "368  Huntsville        29\n",
       "802      Topeka        27\n",
       "..          ...       ...\n",
       "467  Malad City         0\n",
       "464       Luray         0\n",
       "463     Lubbock         0\n",
       "459      Loving         0\n",
       "888     Zavalla         0\n",
       "\n",
       "[889 rows x 2 columns]"
      ]
     },
     "execution_count": 27,
     "metadata": {},
     "output_type": "execute_result"
    }
   ],
   "source": [
    "final_df.groupby('city', as_index=False)['is_fraud'].sum().sort_values('is_fraud',ascending=False)"
   ]
  },
  {
   "cell_type": "code",
   "execution_count": 28,
   "id": "8941b71e",
   "metadata": {},
   "outputs": [],
   "source": [
    "final_df['perc_of_fraud'] = (final_df['is_fraud'].sum() / final_df['is_fraud'].count()) "
   ]
  },
  {
   "cell_type": "code",
   "execution_count": 29,
   "id": "c3016f53",
   "metadata": {},
   "outputs": [
    {
     "data": {
      "text/html": [
       "<div>\n",
       "<style scoped>\n",
       "    .dataframe tbody tr th:only-of-type {\n",
       "        vertical-align: middle;\n",
       "    }\n",
       "\n",
       "    .dataframe tbody tr th {\n",
       "        vertical-align: top;\n",
       "    }\n",
       "\n",
       "    .dataframe thead th {\n",
       "        text-align: right;\n",
       "    }\n",
       "</style>\n",
       "<table border=\"1\" class=\"dataframe\">\n",
       "  <thead>\n",
       "    <tr style=\"text-align: right;\">\n",
       "      <th></th>\n",
       "      <th>state</th>\n",
       "      <th>is_fraud</th>\n",
       "      <th>perc_of_fraud</th>\n",
       "    </tr>\n",
       "  </thead>\n",
       "  <tbody>\n",
       "    <tr>\n",
       "      <th>0</th>\n",
       "      <td>NC</td>\n",
       "      <td>0</td>\n",
       "      <td>0.5</td>\n",
       "    </tr>\n",
       "    <tr>\n",
       "      <th>1</th>\n",
       "      <td>WA</td>\n",
       "      <td>0</td>\n",
       "      <td>0.5</td>\n",
       "    </tr>\n",
       "    <tr>\n",
       "      <th>2</th>\n",
       "      <td>ID</td>\n",
       "      <td>0</td>\n",
       "      <td>0.5</td>\n",
       "    </tr>\n",
       "    <tr>\n",
       "      <th>3</th>\n",
       "      <td>MT</td>\n",
       "      <td>0</td>\n",
       "      <td>0.5</td>\n",
       "    </tr>\n",
       "    <tr>\n",
       "      <th>4</th>\n",
       "      <td>VA</td>\n",
       "      <td>0</td>\n",
       "      <td>0.5</td>\n",
       "    </tr>\n",
       "    <tr>\n",
       "      <th>...</th>\n",
       "      <td>...</td>\n",
       "      <td>...</td>\n",
       "      <td>...</td>\n",
       "    </tr>\n",
       "    <tr>\n",
       "      <th>1295399</th>\n",
       "      <td>FL</td>\n",
       "      <td>1</td>\n",
       "      <td>0.5</td>\n",
       "    </tr>\n",
       "    <tr>\n",
       "      <th>1295491</th>\n",
       "      <td>FL</td>\n",
       "      <td>1</td>\n",
       "      <td>0.5</td>\n",
       "    </tr>\n",
       "    <tr>\n",
       "      <th>1295532</th>\n",
       "      <td>LA</td>\n",
       "      <td>1</td>\n",
       "      <td>0.5</td>\n",
       "    </tr>\n",
       "    <tr>\n",
       "      <th>1295666</th>\n",
       "      <td>TX</td>\n",
       "      <td>1</td>\n",
       "      <td>0.5</td>\n",
       "    </tr>\n",
       "    <tr>\n",
       "      <th>1295733</th>\n",
       "      <td>LA</td>\n",
       "      <td>1</td>\n",
       "      <td>0.5</td>\n",
       "    </tr>\n",
       "  </tbody>\n",
       "</table>\n",
       "<p>15012 rows × 3 columns</p>\n",
       "</div>"
      ],
      "text/plain": [
       "        state  is_fraud  perc_of_fraud\n",
       "0          NC         0            0.5\n",
       "1          WA         0            0.5\n",
       "2          ID         0            0.5\n",
       "3          MT         0            0.5\n",
       "4          VA         0            0.5\n",
       "...       ...       ...            ...\n",
       "1295399    FL         1            0.5\n",
       "1295491    FL         1            0.5\n",
       "1295532    LA         1            0.5\n",
       "1295666    TX         1            0.5\n",
       "1295733    LA         1            0.5\n",
       "\n",
       "[15012 rows x 3 columns]"
      ]
     },
     "execution_count": 29,
     "metadata": {},
     "output_type": "execute_result"
    }
   ],
   "source": [
    "final_df[['state','is_fraud','perc_of_fraud']]"
   ]
  },
  {
   "cell_type": "code",
   "execution_count": 30,
   "id": "9c068529",
   "metadata": {},
   "outputs": [],
   "source": [
    "state_fraud = (final_df.groupby('state')['is_fraud'].sum() / final_df.groupby('state')['is_fraud'].count()) * 100\n",
    "#final_df = final_df.merge(state_fraud.rename('perc_of_fraud'), on='state', how='left')"
   ]
  },
  {
   "cell_type": "code",
   "execution_count": 31,
   "id": "70ca23c6",
   "metadata": {},
   "outputs": [
    {
     "data": {
      "text/plain": [
       "state\n",
       "CT     21.621622\n",
       "HI     21.875000\n",
       "ID     25.000000\n",
       "MT     31.683168\n",
       "AZ     34.259259\n",
       "LA     42.325581\n",
       "MO     43.507973\n",
       "WA     44.036697\n",
       "NM     45.054945\n",
       "ND     45.238095\n",
       "IA     45.367412\n",
       "DC     45.652174\n",
       "MI     45.681382\n",
       "OK     45.833333\n",
       "NJ     46.093750\n",
       "AR     46.131805\n",
       "TX     47.332016\n",
       "AL     47.671840\n",
       "MD     47.720365\n",
       "WY     47.826087\n",
       "WV     48.184818\n",
       "NC     48.376623\n",
       "IL     48.722986\n",
       "CA     49.770992\n",
       "UT     50.000000\n",
       "WI     50.308642\n",
       "VA     50.510204\n",
       "IN     50.533808\n",
       "PA     50.832408\n",
       "KY     50.986842\n",
       "KS     51.315789\n",
       "MS     51.569507\n",
       "VT     51.798561\n",
       "MA     52.272727\n",
       "NY     53.519769\n",
       "FL     53.728489\n",
       "OR     54.578755\n",
       "SC     54.674221\n",
       "OH     54.684838\n",
       "MN     55.347594\n",
       "GA     55.725191\n",
       "NE     55.727554\n",
       "ME     55.868545\n",
       "SD     56.060606\n",
       "TN     56.224900\n",
       "CO     60.752688\n",
       "NV     62.666667\n",
       "NH     62.765957\n",
       "AK     72.000000\n",
       "RI     88.235294\n",
       "DE    100.000000\n",
       "Name: is_fraud, dtype: float64"
      ]
     },
     "execution_count": 31,
     "metadata": {},
     "output_type": "execute_result"
    }
   ],
   "source": [
    "state_fraud.sort_values()"
   ]
  },
  {
   "cell_type": "code",
   "execution_count": 32,
   "id": "8b506283",
   "metadata": {},
   "outputs": [
    {
     "data": {
      "text/plain": [
       "Index(['CT', 'HI', 'ID', 'MT', 'AZ', 'LA', 'MO', 'WA', 'NM', 'ND', 'IA', 'DC',\n",
       "       'MI', 'OK', 'NJ', 'AR', 'TX', 'AL', 'MD', 'WY', 'WV', 'NC', 'IL', 'CA',\n",
       "       'UT', 'WI', 'VA', 'IN', 'PA', 'KY', 'KS', 'MS', 'VT', 'MA', 'NY', 'FL',\n",
       "       'OR', 'SC', 'OH', 'MN', 'GA', 'NE', 'ME', 'SD', 'TN', 'CO', 'NV', 'NH',\n",
       "       'AK', 'RI', 'DE'],\n",
       "      dtype='object', name='state')"
      ]
     },
     "execution_count": 32,
     "metadata": {},
     "output_type": "execute_result"
    }
   ],
   "source": [
    "state_fraud.sort_values().index"
   ]
  },
  {
   "cell_type": "code",
   "execution_count": 33,
   "id": "1ac07924",
   "metadata": {},
   "outputs": [],
   "source": [
    "df_del = final_df[final_df['state']=='DE']"
   ]
  },
  {
   "cell_type": "code",
   "execution_count": 34,
   "id": "e62dabbb",
   "metadata": {
    "scrolled": true
   },
   "outputs": [
    {
     "data": {
      "text/html": [
       "<div>\n",
       "<style scoped>\n",
       "    .dataframe tbody tr th:only-of-type {\n",
       "        vertical-align: middle;\n",
       "    }\n",
       "\n",
       "    .dataframe tbody tr th {\n",
       "        vertical-align: top;\n",
       "    }\n",
       "\n",
       "    .dataframe thead th {\n",
       "        text-align: right;\n",
       "    }\n",
       "</style>\n",
       "<table border=\"1\" class=\"dataframe\">\n",
       "  <thead>\n",
       "    <tr style=\"text-align: right;\">\n",
       "      <th></th>\n",
       "      <th>Unnamed: 0</th>\n",
       "      <th>trans_date_trans_time</th>\n",
       "      <th>cc_num</th>\n",
       "      <th>merchant</th>\n",
       "      <th>category</th>\n",
       "      <th>amt</th>\n",
       "      <th>first</th>\n",
       "      <th>last</th>\n",
       "      <th>gender</th>\n",
       "      <th>street</th>\n",
       "      <th>...</th>\n",
       "      <th>long</th>\n",
       "      <th>city_pop</th>\n",
       "      <th>job</th>\n",
       "      <th>dob</th>\n",
       "      <th>trans_num</th>\n",
       "      <th>unix_time</th>\n",
       "      <th>merch_lat</th>\n",
       "      <th>merch_long</th>\n",
       "      <th>is_fraud</th>\n",
       "      <th>perc_of_fraud</th>\n",
       "    </tr>\n",
       "  </thead>\n",
       "  <tbody>\n",
       "    <tr>\n",
       "      <th>233631</th>\n",
       "      <td>233631</td>\n",
       "      <td>2019-04-28 00:41:37</td>\n",
       "      <td>6011826317034777</td>\n",
       "      <td>0.002864</td>\n",
       "      <td>grocery_pos</td>\n",
       "      <td>294.91</td>\n",
       "      <td>Christine</td>\n",
       "      <td>Johnson</td>\n",
       "      <td>F</td>\n",
       "      <td>9612 Robert Light Apt. 340</td>\n",
       "      <td>...</td>\n",
       "      <td>-75.3932</td>\n",
       "      <td>18799</td>\n",
       "      <td>Designer, multimedia</td>\n",
       "      <td>2000-03-16</td>\n",
       "      <td>8f85e701f609911b99bea627eb71aa49</td>\n",
       "      <td>1335573697</td>\n",
       "      <td>38.166715</td>\n",
       "      <td>-75.023367</td>\n",
       "      <td>1</td>\n",
       "      <td>0.5</td>\n",
       "    </tr>\n",
       "    <tr>\n",
       "      <th>233744</th>\n",
       "      <td>233744</td>\n",
       "      <td>2019-04-28 01:49:28</td>\n",
       "      <td>6011826317034777</td>\n",
       "      <td>0.001532</td>\n",
       "      <td>misc_net</td>\n",
       "      <td>868.29</td>\n",
       "      <td>Christine</td>\n",
       "      <td>Johnson</td>\n",
       "      <td>F</td>\n",
       "      <td>9612 Robert Light Apt. 340</td>\n",
       "      <td>...</td>\n",
       "      <td>-75.3932</td>\n",
       "      <td>18799</td>\n",
       "      <td>Designer, multimedia</td>\n",
       "      <td>2000-03-16</td>\n",
       "      <td>8c941f2849ccac44d32ef08ea784fc67</td>\n",
       "      <td>1335577768</td>\n",
       "      <td>38.910900</td>\n",
       "      <td>-74.856625</td>\n",
       "      <td>1</td>\n",
       "      <td>0.5</td>\n",
       "    </tr>\n",
       "    <tr>\n",
       "      <th>233826</th>\n",
       "      <td>233826</td>\n",
       "      <td>2019-04-28 02:33:09</td>\n",
       "      <td>6011826317034777</td>\n",
       "      <td>0.002998</td>\n",
       "      <td>grocery_pos</td>\n",
       "      <td>280.26</td>\n",
       "      <td>Christine</td>\n",
       "      <td>Johnson</td>\n",
       "      <td>F</td>\n",
       "      <td>9612 Robert Light Apt. 340</td>\n",
       "      <td>...</td>\n",
       "      <td>-75.3932</td>\n",
       "      <td>18799</td>\n",
       "      <td>Designer, multimedia</td>\n",
       "      <td>2000-03-16</td>\n",
       "      <td>0fc1109cb9a10961595e79736ccc1293</td>\n",
       "      <td>1335580389</td>\n",
       "      <td>38.523208</td>\n",
       "      <td>-74.460889</td>\n",
       "      <td>1</td>\n",
       "      <td>0.5</td>\n",
       "    </tr>\n",
       "    <tr>\n",
       "      <th>234625</th>\n",
       "      <td>234625</td>\n",
       "      <td>2019-04-28 10:24:34</td>\n",
       "      <td>6011826317034777</td>\n",
       "      <td>0.002931</td>\n",
       "      <td>grocery_pos</td>\n",
       "      <td>296.25</td>\n",
       "      <td>Christine</td>\n",
       "      <td>Johnson</td>\n",
       "      <td>F</td>\n",
       "      <td>9612 Robert Light Apt. 340</td>\n",
       "      <td>...</td>\n",
       "      <td>-75.3932</td>\n",
       "      <td>18799</td>\n",
       "      <td>Designer, multimedia</td>\n",
       "      <td>2000-03-16</td>\n",
       "      <td>b4248cfc8b44fec6193767918d49b334</td>\n",
       "      <td>1335608674</td>\n",
       "      <td>38.593896</td>\n",
       "      <td>-76.031493</td>\n",
       "      <td>1</td>\n",
       "      <td>0.5</td>\n",
       "    </tr>\n",
       "    <tr>\n",
       "      <th>236522</th>\n",
       "      <td>236522</td>\n",
       "      <td>2019-04-28 23:03:24</td>\n",
       "      <td>6011826317034777</td>\n",
       "      <td>0.000666</td>\n",
       "      <td>health_fitness</td>\n",
       "      <td>20.58</td>\n",
       "      <td>Christine</td>\n",
       "      <td>Johnson</td>\n",
       "      <td>F</td>\n",
       "      <td>9612 Robert Light Apt. 340</td>\n",
       "      <td>...</td>\n",
       "      <td>-75.3932</td>\n",
       "      <td>18799</td>\n",
       "      <td>Designer, multimedia</td>\n",
       "      <td>2000-03-16</td>\n",
       "      <td>567ed9b2d7d10ad519cdd697cd338f70</td>\n",
       "      <td>1335654204</td>\n",
       "      <td>39.003922</td>\n",
       "      <td>-75.852152</td>\n",
       "      <td>1</td>\n",
       "      <td>0.5</td>\n",
       "    </tr>\n",
       "    <tr>\n",
       "      <th>236643</th>\n",
       "      <td>236643</td>\n",
       "      <td>2019-04-28 23:41:43</td>\n",
       "      <td>6011826317034777</td>\n",
       "      <td>0.004730</td>\n",
       "      <td>shopping_net</td>\n",
       "      <td>1012.77</td>\n",
       "      <td>Christine</td>\n",
       "      <td>Johnson</td>\n",
       "      <td>F</td>\n",
       "      <td>9612 Robert Light Apt. 340</td>\n",
       "      <td>...</td>\n",
       "      <td>-75.3932</td>\n",
       "      <td>18799</td>\n",
       "      <td>Designer, multimedia</td>\n",
       "      <td>2000-03-16</td>\n",
       "      <td>00d158609d7ac753da792e9d0eb88a0b</td>\n",
       "      <td>1335656503</td>\n",
       "      <td>39.596186</td>\n",
       "      <td>-75.559281</td>\n",
       "      <td>1</td>\n",
       "      <td>0.5</td>\n",
       "    </tr>\n",
       "    <tr>\n",
       "      <th>237095</th>\n",
       "      <td>237095</td>\n",
       "      <td>2019-04-29 03:29:41</td>\n",
       "      <td>6011826317034777</td>\n",
       "      <td>0.001732</td>\n",
       "      <td>misc_net</td>\n",
       "      <td>885.96</td>\n",
       "      <td>Christine</td>\n",
       "      <td>Johnson</td>\n",
       "      <td>F</td>\n",
       "      <td>9612 Robert Light Apt. 340</td>\n",
       "      <td>...</td>\n",
       "      <td>-75.3932</td>\n",
       "      <td>18799</td>\n",
       "      <td>Designer, multimedia</td>\n",
       "      <td>2000-03-16</td>\n",
       "      <td>e0613e4142b2d05867299832ac453e01</td>\n",
       "      <td>1335670181</td>\n",
       "      <td>39.666374</td>\n",
       "      <td>-76.358642</td>\n",
       "      <td>1</td>\n",
       "      <td>0.5</td>\n",
       "    </tr>\n",
       "    <tr>\n",
       "      <th>237740</th>\n",
       "      <td>237740</td>\n",
       "      <td>2019-04-29 10:13:47</td>\n",
       "      <td>6011826317034777</td>\n",
       "      <td>0.000600</td>\n",
       "      <td>grocery_net</td>\n",
       "      <td>10.93</td>\n",
       "      <td>Christine</td>\n",
       "      <td>Johnson</td>\n",
       "      <td>F</td>\n",
       "      <td>9612 Robert Light Apt. 340</td>\n",
       "      <td>...</td>\n",
       "      <td>-75.3932</td>\n",
       "      <td>18799</td>\n",
       "      <td>Designer, multimedia</td>\n",
       "      <td>2000-03-16</td>\n",
       "      <td>788a8fea8199a4e8a6a47ffab824e571</td>\n",
       "      <td>1335694427</td>\n",
       "      <td>37.691598</td>\n",
       "      <td>-76.058416</td>\n",
       "      <td>1</td>\n",
       "      <td>0.5</td>\n",
       "    </tr>\n",
       "    <tr>\n",
       "      <th>239854</th>\n",
       "      <td>239854</td>\n",
       "      <td>2019-04-29 23:51:22</td>\n",
       "      <td>6011826317034777</td>\n",
       "      <td>0.002665</td>\n",
       "      <td>shopping_net</td>\n",
       "      <td>960.49</td>\n",
       "      <td>Christine</td>\n",
       "      <td>Johnson</td>\n",
       "      <td>F</td>\n",
       "      <td>9612 Robert Light Apt. 340</td>\n",
       "      <td>...</td>\n",
       "      <td>-75.3932</td>\n",
       "      <td>18799</td>\n",
       "      <td>Designer, multimedia</td>\n",
       "      <td>2000-03-16</td>\n",
       "      <td>4193b953223a1c9432f9d3c380e67be9</td>\n",
       "      <td>1335743482</td>\n",
       "      <td>39.073319</td>\n",
       "      <td>-75.545153</td>\n",
       "      <td>1</td>\n",
       "      <td>0.5</td>\n",
       "    </tr>\n",
       "  </tbody>\n",
       "</table>\n",
       "<p>9 rows × 24 columns</p>\n",
       "</div>"
      ],
      "text/plain": [
       "        Unnamed: 0 trans_date_trans_time            cc_num  merchant  \\\n",
       "233631      233631   2019-04-28 00:41:37  6011826317034777  0.002864   \n",
       "233744      233744   2019-04-28 01:49:28  6011826317034777  0.001532   \n",
       "233826      233826   2019-04-28 02:33:09  6011826317034777  0.002998   \n",
       "234625      234625   2019-04-28 10:24:34  6011826317034777  0.002931   \n",
       "236522      236522   2019-04-28 23:03:24  6011826317034777  0.000666   \n",
       "236643      236643   2019-04-28 23:41:43  6011826317034777  0.004730   \n",
       "237095      237095   2019-04-29 03:29:41  6011826317034777  0.001732   \n",
       "237740      237740   2019-04-29 10:13:47  6011826317034777  0.000600   \n",
       "239854      239854   2019-04-29 23:51:22  6011826317034777  0.002665   \n",
       "\n",
       "              category      amt      first     last gender  \\\n",
       "233631     grocery_pos   294.91  Christine  Johnson      F   \n",
       "233744        misc_net   868.29  Christine  Johnson      F   \n",
       "233826     grocery_pos   280.26  Christine  Johnson      F   \n",
       "234625     grocery_pos   296.25  Christine  Johnson      F   \n",
       "236522  health_fitness    20.58  Christine  Johnson      F   \n",
       "236643    shopping_net  1012.77  Christine  Johnson      F   \n",
       "237095        misc_net   885.96  Christine  Johnson      F   \n",
       "237740     grocery_net    10.93  Christine  Johnson      F   \n",
       "239854    shopping_net   960.49  Christine  Johnson      F   \n",
       "\n",
       "                            street  ...     long city_pop  \\\n",
       "233631  9612 Robert Light Apt. 340  ... -75.3932    18799   \n",
       "233744  9612 Robert Light Apt. 340  ... -75.3932    18799   \n",
       "233826  9612 Robert Light Apt. 340  ... -75.3932    18799   \n",
       "234625  9612 Robert Light Apt. 340  ... -75.3932    18799   \n",
       "236522  9612 Robert Light Apt. 340  ... -75.3932    18799   \n",
       "236643  9612 Robert Light Apt. 340  ... -75.3932    18799   \n",
       "237095  9612 Robert Light Apt. 340  ... -75.3932    18799   \n",
       "237740  9612 Robert Light Apt. 340  ... -75.3932    18799   \n",
       "239854  9612 Robert Light Apt. 340  ... -75.3932    18799   \n",
       "\n",
       "                         job         dob                         trans_num  \\\n",
       "233631  Designer, multimedia  2000-03-16  8f85e701f609911b99bea627eb71aa49   \n",
       "233744  Designer, multimedia  2000-03-16  8c941f2849ccac44d32ef08ea784fc67   \n",
       "233826  Designer, multimedia  2000-03-16  0fc1109cb9a10961595e79736ccc1293   \n",
       "234625  Designer, multimedia  2000-03-16  b4248cfc8b44fec6193767918d49b334   \n",
       "236522  Designer, multimedia  2000-03-16  567ed9b2d7d10ad519cdd697cd338f70   \n",
       "236643  Designer, multimedia  2000-03-16  00d158609d7ac753da792e9d0eb88a0b   \n",
       "237095  Designer, multimedia  2000-03-16  e0613e4142b2d05867299832ac453e01   \n",
       "237740  Designer, multimedia  2000-03-16  788a8fea8199a4e8a6a47ffab824e571   \n",
       "239854  Designer, multimedia  2000-03-16  4193b953223a1c9432f9d3c380e67be9   \n",
       "\n",
       "         unix_time  merch_lat merch_long is_fraud  perc_of_fraud  \n",
       "233631  1335573697  38.166715 -75.023367        1            0.5  \n",
       "233744  1335577768  38.910900 -74.856625        1            0.5  \n",
       "233826  1335580389  38.523208 -74.460889        1            0.5  \n",
       "234625  1335608674  38.593896 -76.031493        1            0.5  \n",
       "236522  1335654204  39.003922 -75.852152        1            0.5  \n",
       "236643  1335656503  39.596186 -75.559281        1            0.5  \n",
       "237095  1335670181  39.666374 -76.358642        1            0.5  \n",
       "237740  1335694427  37.691598 -76.058416        1            0.5  \n",
       "239854  1335743482  39.073319 -75.545153        1            0.5  \n",
       "\n",
       "[9 rows x 24 columns]"
      ]
     },
     "execution_count": 34,
     "metadata": {},
     "output_type": "execute_result"
    }
   ],
   "source": [
    "df_del"
   ]
  },
  {
   "cell_type": "code",
   "execution_count": 35,
   "id": "1d1948d8",
   "metadata": {},
   "outputs": [],
   "source": [
    "city_fraud = round(final_df.groupby('city')['is_fraud'].sum() / final_df.groupby('city')['is_fraud'].count(),2)"
   ]
  },
  {
   "cell_type": "code",
   "execution_count": 36,
   "id": "980186f4",
   "metadata": {},
   "outputs": [
    {
     "data": {
      "text/plain": [
       "city\n",
       "Melville      1.0\n",
       "Nanuet        1.0\n",
       "Waukau        1.0\n",
       "Phelps        1.0\n",
       "East China    1.0\n",
       "             ... \n",
       "Malad City    0.0\n",
       "Luray         0.0\n",
       "Lubbock       0.0\n",
       "Loving        0.0\n",
       "Zavalla       0.0\n",
       "Name: is_fraud, Length: 889, dtype: float64"
      ]
     },
     "execution_count": 36,
     "metadata": {},
     "output_type": "execute_result"
    }
   ],
   "source": [
    "city_fraud.sort_values(ascending=False)"
   ]
  },
  {
   "cell_type": "code",
   "execution_count": 37,
   "id": "1dfc6b90",
   "metadata": {},
   "outputs": [
    {
     "data": {
      "text/plain": [
       "Index(['trans_date_trans_time', 'category', 'first', 'last', 'gender',\n",
       "       'street', 'city', 'state', 'job', 'dob', 'trans_num'],\n",
       "      dtype='object')"
      ]
     },
     "execution_count": 37,
     "metadata": {},
     "output_type": "execute_result"
    }
   ],
   "source": [
    "final_df.select_dtypes(include='object').columns"
   ]
  },
  {
   "cell_type": "markdown",
   "id": "938738bb",
   "metadata": {},
   "source": [
    "# We Are now going to Convert State to Ordinal Encoding: We are going to ensure that state with Highest Fraud gets Highest number, State with lowest gets Lowest Number and everything else in between."
   ]
  },
  {
   "cell_type": "code",
   "execution_count": 38,
   "id": "f86927e5",
   "metadata": {},
   "outputs": [],
   "source": [
    "from sklearn.preprocessing import OrdinalEncoder\n",
    "\n",
    "# Define the order of categories\n",
    "categories = [['CT', 'HI', 'ID', 'MT', 'AZ', 'LA', 'MO', 'WA', 'NM', 'ND', 'IA', 'DC',\n",
    "       'MI', 'OK', 'NJ', 'AR', 'TX', 'AL', 'MD', 'WY', 'WV', 'NC', 'IL', 'CA',\n",
    "       'UT', 'WI', 'VA', 'IN', 'PA', 'KY', 'KS', 'MS', 'VT', 'MA', 'NY', 'FL',\n",
    "       'OR', 'SC', 'OH', 'MN', 'GA', 'NE', 'ME', 'SD', 'TN', 'CO', 'NV', 'NH',\n",
    "       'AK', 'RI', 'DE']]\n",
    "\n",
    "# Initialize Encoder\n",
    "encoder = OrdinalEncoder(categories=categories)\n",
    "\n",
    "# Fit and Transform\n",
    "final_df['state_2'] = encoder.fit_transform(final_df[['state']])\n",
    "\n"
   ]
  },
  {
   "cell_type": "code",
   "execution_count": 39,
   "id": "75cf6f13",
   "metadata": {
    "scrolled": true
   },
   "outputs": [
    {
     "data": {
      "text/plain": [
       "state_2\n",
       "34.0    1037\n",
       "16.0    1012\n",
       "28.0     901\n",
       "23.0     655\n",
       "38.0     587\n",
       "35.0     523\n",
       "12.0     521\n",
       "22.0     509\n",
       "17.0     451\n",
       "6.0      439\n",
       "26.0     392\n",
       "39.0     374\n",
       "37.0     353\n",
       "15.0     349\n",
       "18.0     329\n",
       "25.0     324\n",
       "41.0     323\n",
       "10.0     313\n",
       "13.0     312\n",
       "21.0     308\n",
       "30.0     304\n",
       "29.0     304\n",
       "20.0     303\n",
       "27.0     281\n",
       "36.0     273\n",
       "40.0     262\n",
       "14.0     256\n",
       "44.0     249\n",
       "19.0     230\n",
       "31.0     223\n",
       "7.0      218\n",
       "5.0      215\n",
       "42.0     213\n",
       "45.0     186\n",
       "8.0      182\n",
       "32.0     139\n",
       "43.0     132\n",
       "33.0     132\n",
       "9.0      126\n",
       "24.0     122\n",
       "4.0      108\n",
       "3.0      101\n",
       "47.0      94\n",
       "46.0      75\n",
       "0.0       74\n",
       "48.0      50\n",
       "11.0      46\n",
       "2.0       44\n",
       "1.0       32\n",
       "49.0      17\n",
       "50.0       9\n",
       "Name: count, dtype: int64"
      ]
     },
     "execution_count": 39,
     "metadata": {},
     "output_type": "execute_result"
    }
   ],
   "source": [
    "final_df['state_2'].value_counts()"
   ]
  },
  {
   "cell_type": "markdown",
   "id": "2bbec230",
   "metadata": {},
   "source": [
    "# Now Handling City Column but in a different way "
   ]
  },
  {
   "cell_type": "code",
   "execution_count": 40,
   "id": "92e368ce",
   "metadata": {},
   "outputs": [],
   "source": [
    "city_fraud = (final_df.groupby('city')['is_fraud'].sum() / final_df.groupby('city')['is_fraud'].count())\n",
    "final_df = final_df.merge(city_fraud.rename('city_fraud'), on='city', how='left')"
   ]
  },
  {
   "cell_type": "code",
   "execution_count": 41,
   "id": "1bfcab70",
   "metadata": {},
   "outputs": [
    {
     "data": {
      "text/plain": [
       "Index(['trans_date_trans_time', 'category', 'first', 'last', 'gender',\n",
       "       'street', 'city', 'state', 'job', 'dob', 'trans_num'],\n",
       "      dtype='object')"
      ]
     },
     "execution_count": 41,
     "metadata": {},
     "output_type": "execute_result"
    }
   ],
   "source": [
    "final_df.select_dtypes(include='object').columns"
   ]
  },
  {
   "cell_type": "code",
   "execution_count": 42,
   "id": "957de899",
   "metadata": {},
   "outputs": [],
   "source": [
    "# Drop First, last from the dataset as they contribute to nothing\n",
    "\n",
    "final_df = final_df.drop(['first','last','state','city'],axis=1)"
   ]
  },
  {
   "cell_type": "code",
   "execution_count": 43,
   "id": "6495fb4a",
   "metadata": {},
   "outputs": [
    {
     "data": {
      "text/plain": [
       "Index(['trans_date_trans_time', 'category', 'gender', 'street', 'job', 'dob',\n",
       "       'trans_num'],\n",
       "      dtype='object')"
      ]
     },
     "execution_count": 43,
     "metadata": {},
     "output_type": "execute_result"
    }
   ],
   "source": [
    "final_df.select_dtypes(include='object').columns"
   ]
  },
  {
   "cell_type": "code",
   "execution_count": 44,
   "id": "86564412",
   "metadata": {},
   "outputs": [
    {
     "data": {
      "text/plain": [
       "gender\n",
       "F    7863\n",
       "M    7149\n",
       "Name: count, dtype: int64"
      ]
     },
     "execution_count": 44,
     "metadata": {},
     "output_type": "execute_result"
    }
   ],
   "source": [
    "final_df['gender'].value_counts()"
   ]
  },
  {
   "cell_type": "code",
   "execution_count": 45,
   "id": "9934bfd8",
   "metadata": {},
   "outputs": [],
   "source": [
    "final_df['gender'] = final_df['gender'].replace('M',0)"
   ]
  },
  {
   "cell_type": "code",
   "execution_count": 46,
   "id": "83734221",
   "metadata": {},
   "outputs": [],
   "source": [
    "final_df['gender'] = final_df['gender'].replace('F',1)"
   ]
  },
  {
   "cell_type": "code",
   "execution_count": 47,
   "id": "a0a9994c",
   "metadata": {},
   "outputs": [
    {
     "data": {
      "text/plain": [
       "gender\n",
       "1    7863\n",
       "0    7149\n",
       "Name: count, dtype: int64"
      ]
     },
     "execution_count": 47,
     "metadata": {},
     "output_type": "execute_result"
    }
   ],
   "source": [
    "final_df['gender'].value_counts()"
   ]
  },
  {
   "cell_type": "code",
   "execution_count": 48,
   "id": "b26bccef",
   "metadata": {
    "scrolled": true
   },
   "outputs": [
    {
     "data": {
      "text/plain": [
       "Index(['trans_date_trans_time', 'category', 'street', 'job', 'dob',\n",
       "       'trans_num'],\n",
       "      dtype='object')"
      ]
     },
     "execution_count": 48,
     "metadata": {},
     "output_type": "execute_result"
    }
   ],
   "source": [
    "final_df.select_dtypes(include='object').columns"
   ]
  },
  {
   "cell_type": "code",
   "execution_count": null,
   "id": "5d730156",
   "metadata": {},
   "outputs": [],
   "source": []
  },
  {
   "cell_type": "markdown",
   "id": "20f3a08b",
   "metadata": {},
   "source": [
    "# Now Dealing with Category , first to ensure that Fraud has some sort of relation with Category , lets do EDA"
   ]
  },
  {
   "cell_type": "code",
   "execution_count": 49,
   "id": "4a7311fc",
   "metadata": {},
   "outputs": [
    {
     "data": {
      "text/plain": [
       "category\n",
       "grocery_pos       2482\n",
       "shopping_net      2249\n",
       "shopping_pos      1483\n",
       "gas_transport     1393\n",
       "misc_net          1299\n",
       "home               959\n",
       "kids_pets          899\n",
       "personal_care      766\n",
       "entertainment      763\n",
       "food_dining        677\n",
       "misc_pos           676\n",
       "health_fitness     631\n",
       "grocery_net        399\n",
       "travel             336\n",
       "Name: count, dtype: int64"
      ]
     },
     "execution_count": 49,
     "metadata": {},
     "output_type": "execute_result"
    }
   ],
   "source": [
    "final_df['category'].value_counts()"
   ]
  },
  {
   "cell_type": "code",
   "execution_count": 50,
   "id": "d305e8f4",
   "metadata": {},
   "outputs": [],
   "source": [
    "category_fraud = (final_df.groupby('category')['is_fraud'].sum() / final_df.groupby('category')['is_fraud'].count()) * 100"
   ]
  },
  {
   "cell_type": "code",
   "execution_count": 51,
   "id": "953d73d0",
   "metadata": {
    "scrolled": true
   },
   "outputs": [
    {
     "data": {
      "text/plain": [
       "category\n",
       "home              20.646507\n",
       "health_fitness    21.077655\n",
       "food_dining       22.304284\n",
       "kids_pets         26.585095\n",
       "personal_care     28.720627\n",
       "entertainment     30.537353\n",
       "grocery_net       33.583960\n",
       "travel            34.523810\n",
       "misc_pos          36.982249\n",
       "gas_transport     44.364681\n",
       "shopping_pos      56.844235\n",
       "grocery_pos       70.225624\n",
       "misc_net          70.438799\n",
       "shopping_net      76.167185\n",
       "Name: is_fraud, dtype: float64"
      ]
     },
     "execution_count": 51,
     "metadata": {},
     "output_type": "execute_result"
    }
   ],
   "source": [
    "category_fraud.sort_values()"
   ]
  },
  {
   "cell_type": "code",
   "execution_count": 52,
   "id": "34f93078",
   "metadata": {},
   "outputs": [
    {
     "data": {
      "text/plain": [
       "Index(['home', 'health_fitness', 'food_dining', 'kids_pets', 'personal_care',\n",
       "       'entertainment', 'grocery_net', 'travel', 'misc_pos', 'gas_transport',\n",
       "       'shopping_pos', 'grocery_pos', 'misc_net', 'shopping_net'],\n",
       "      dtype='object', name='category')"
      ]
     },
     "execution_count": 52,
     "metadata": {},
     "output_type": "execute_result"
    }
   ],
   "source": [
    "category_fraud.sort_values().index"
   ]
  },
  {
   "cell_type": "code",
   "execution_count": 53,
   "id": "f9550881",
   "metadata": {},
   "outputs": [],
   "source": [
    "from sklearn.preprocessing import OrdinalEncoder\n",
    "\n",
    "# Define the order of categories\n",
    "categories = [['home', 'health_fitness', 'food_dining', 'kids_pets', 'personal_care',\n",
    "       'entertainment', 'grocery_net', 'travel', 'misc_pos', 'gas_transport',\n",
    "       'shopping_pos', 'grocery_pos', 'misc_net', 'shopping_net']]\n",
    "\n",
    "# Initialize Encoder\n",
    "encoder = OrdinalEncoder(categories=categories)\n",
    "\n",
    "# Fit and Transform\n",
    "final_df['category'] = encoder.fit_transform(final_df[['category']])"
   ]
  },
  {
   "cell_type": "code",
   "execution_count": 54,
   "id": "7c9b403a",
   "metadata": {},
   "outputs": [
    {
     "data": {
      "text/plain": [
       "Index(['trans_date_trans_time', 'street', 'job', 'dob', 'trans_num'], dtype='object')"
      ]
     },
     "execution_count": 54,
     "metadata": {},
     "output_type": "execute_result"
    }
   ],
   "source": [
    "final_df.select_dtypes(include='object').columns"
   ]
  },
  {
   "cell_type": "code",
   "execution_count": 55,
   "id": "b14de5bd",
   "metadata": {},
   "outputs": [
    {
     "data": {
      "text/plain": [
       "494"
      ]
     },
     "execution_count": 55,
     "metadata": {},
     "output_type": "execute_result"
    }
   ],
   "source": [
    "len(final_df['job'].value_counts())"
   ]
  },
  {
   "cell_type": "code",
   "execution_count": 56,
   "id": "1a22b047",
   "metadata": {},
   "outputs": [],
   "source": [
    "job_fraud = (final_df.groupby('job')['is_fraud'].sum() / final_df.groupby('job')['is_fraud'].count()) * 100"
   ]
  },
  {
   "cell_type": "code",
   "execution_count": 57,
   "id": "dbc88bc2",
   "metadata": {},
   "outputs": [
    {
     "data": {
      "text/plain": [
       "job\n",
       "Ship broker                        100.0\n",
       "Engineer, site                     100.0\n",
       "Armed forces technical officer     100.0\n",
       "Producer, television/film/video    100.0\n",
       "Careers adviser                    100.0\n",
       "                                   ...  \n",
       "Teaching laboratory technician       0.0\n",
       "Engineer, communications             0.0\n",
       "Television camera operator           0.0\n",
       "Engineer, civil (contracting)        0.0\n",
       "Insurance broker                     0.0\n",
       "Name: is_fraud, Length: 494, dtype: float64"
      ]
     },
     "execution_count": 57,
     "metadata": {},
     "output_type": "execute_result"
    }
   ],
   "source": [
    "job_fraud.sort_values(ascending=False)"
   ]
  },
  {
   "cell_type": "code",
   "execution_count": 58,
   "id": "cb40f220",
   "metadata": {},
   "outputs": [],
   "source": [
    "final_df = final_df.merge(job_fraud.rename('job_fraud'), on='job', how='left')"
   ]
  },
  {
   "cell_type": "code",
   "execution_count": 59,
   "id": "0e14e99a",
   "metadata": {},
   "outputs": [
    {
     "data": {
      "text/plain": [
       "0        21.428571\n",
       "1        19.642857\n",
       "2        61.538462\n",
       "3        51.282051\n",
       "4         0.000000\n",
       "           ...    \n",
       "15007    29.032258\n",
       "15008    29.032258\n",
       "15009    33.333333\n",
       "15010    27.500000\n",
       "15011    33.333333\n",
       "Name: job_fraud, Length: 15012, dtype: float64"
      ]
     },
     "execution_count": 59,
     "metadata": {},
     "output_type": "execute_result"
    }
   ],
   "source": [
    "final_df['job_fraud']"
   ]
  },
  {
   "cell_type": "code",
   "execution_count": null,
   "id": "3faf4cab",
   "metadata": {},
   "outputs": [],
   "source": []
  },
  {
   "cell_type": "code",
   "execution_count": 60,
   "id": "51857521",
   "metadata": {},
   "outputs": [
    {
     "data": {
      "text/plain": [
       "Index(['trans_date_trans_time', 'street', 'job', 'dob', 'trans_num'], dtype='object')"
      ]
     },
     "execution_count": 60,
     "metadata": {},
     "output_type": "execute_result"
    }
   ],
   "source": [
    "final_df.select_dtypes(include='object').columns"
   ]
  },
  {
   "cell_type": "code",
   "execution_count": 61,
   "id": "ec83f810",
   "metadata": {},
   "outputs": [],
   "source": [
    "street_fraud = (final_df.groupby('street')['is_fraud'].sum() / final_df.groupby('street')['is_fraud'].count()) * 100"
   ]
  },
  {
   "cell_type": "code",
   "execution_count": 62,
   "id": "eb66f417",
   "metadata": {},
   "outputs": [],
   "source": [
    "final_df = final_df.merge(street_fraud.rename('street_fraud'), on='street', how='left')"
   ]
  },
  {
   "cell_type": "code",
   "execution_count": 63,
   "id": "e74bb72f",
   "metadata": {},
   "outputs": [
    {
     "data": {
      "text/html": [
       "<div>\n",
       "<style scoped>\n",
       "    .dataframe tbody tr th:only-of-type {\n",
       "        vertical-align: middle;\n",
       "    }\n",
       "\n",
       "    .dataframe tbody tr th {\n",
       "        vertical-align: top;\n",
       "    }\n",
       "\n",
       "    .dataframe thead th {\n",
       "        text-align: right;\n",
       "    }\n",
       "</style>\n",
       "<table border=\"1\" class=\"dataframe\">\n",
       "  <thead>\n",
       "    <tr style=\"text-align: right;\">\n",
       "      <th></th>\n",
       "      <th>street</th>\n",
       "      <th>street_fraud</th>\n",
       "    </tr>\n",
       "  </thead>\n",
       "  <tbody>\n",
       "    <tr>\n",
       "      <th>13043</th>\n",
       "      <td>8206 Harris Extensions Apt. 996</td>\n",
       "      <td>100.0</td>\n",
       "    </tr>\n",
       "    <tr>\n",
       "      <th>8769</th>\n",
       "      <td>56261 Keith Plaza</td>\n",
       "      <td>100.0</td>\n",
       "    </tr>\n",
       "    <tr>\n",
       "      <th>8757</th>\n",
       "      <td>01770 Kevin Lodge Suite 190</td>\n",
       "      <td>100.0</td>\n",
       "    </tr>\n",
       "    <tr>\n",
       "      <th>8759</th>\n",
       "      <td>01770 Kevin Lodge Suite 190</td>\n",
       "      <td>100.0</td>\n",
       "    </tr>\n",
       "    <tr>\n",
       "      <th>8762</th>\n",
       "      <td>56261 Keith Plaza</td>\n",
       "      <td>100.0</td>\n",
       "    </tr>\n",
       "    <tr>\n",
       "      <th>...</th>\n",
       "      <td>...</td>\n",
       "      <td>...</td>\n",
       "    </tr>\n",
       "    <tr>\n",
       "      <th>5014</th>\n",
       "      <td>9572 Austin Forge Suite 612</td>\n",
       "      <td>0.0</td>\n",
       "    </tr>\n",
       "    <tr>\n",
       "      <th>5017</th>\n",
       "      <td>555 Michael Burgs</td>\n",
       "      <td>0.0</td>\n",
       "    </tr>\n",
       "    <tr>\n",
       "      <th>5018</th>\n",
       "      <td>11014 Chad Lake Apt. 573</td>\n",
       "      <td>0.0</td>\n",
       "    </tr>\n",
       "    <tr>\n",
       "      <th>5022</th>\n",
       "      <td>561 Perry Cove</td>\n",
       "      <td>0.0</td>\n",
       "    </tr>\n",
       "    <tr>\n",
       "      <th>0</th>\n",
       "      <td>561 Perry Cove</td>\n",
       "      <td>0.0</td>\n",
       "    </tr>\n",
       "  </tbody>\n",
       "</table>\n",
       "<p>15012 rows × 2 columns</p>\n",
       "</div>"
      ],
      "text/plain": [
       "                                street  street_fraud\n",
       "13043  8206 Harris Extensions Apt. 996         100.0\n",
       "8769                 56261 Keith Plaza         100.0\n",
       "8757       01770 Kevin Lodge Suite 190         100.0\n",
       "8759       01770 Kevin Lodge Suite 190         100.0\n",
       "8762                 56261 Keith Plaza         100.0\n",
       "...                                ...           ...\n",
       "5014       9572 Austin Forge Suite 612           0.0\n",
       "5017                 555 Michael Burgs           0.0\n",
       "5018          11014 Chad Lake Apt. 573           0.0\n",
       "5022                    561 Perry Cove           0.0\n",
       "0                       561 Perry Cove           0.0\n",
       "\n",
       "[15012 rows x 2 columns]"
      ]
     },
     "execution_count": 63,
     "metadata": {},
     "output_type": "execute_result"
    }
   ],
   "source": [
    "final_df[['street','street_fraud']].sort_values('street_fraud',ascending=False)"
   ]
  },
  {
   "cell_type": "code",
   "execution_count": 64,
   "id": "081f2082",
   "metadata": {},
   "outputs": [
    {
     "data": {
      "text/plain": [
       "street\n",
       "615 Clarke Spring Apt. 172        40\n",
       "2870 Bean Terrace Apt. 756        37\n",
       "2924 Bobby Trafficway             37\n",
       "854 Walker Dale Suite 488         37\n",
       "3645 Atkins Island Apt. 238       36\n",
       "                                  ..\n",
       "5537 Jessica Plaza                 1\n",
       "6313 Scott Trace                   1\n",
       "87198 Macias Drive Suite 389       1\n",
       "17355 Mendoza Bypass Suite 059     1\n",
       "022 Moore Island                   1\n",
       "Name: count, Length: 977, dtype: int64"
      ]
     },
     "execution_count": 64,
     "metadata": {},
     "output_type": "execute_result"
    }
   ],
   "source": [
    "final_df['street'].value_counts().sort_values(ascending=False)"
   ]
  },
  {
   "cell_type": "code",
   "execution_count": 65,
   "id": "eaf34976",
   "metadata": {},
   "outputs": [],
   "source": [
    "street_fraud_sum= final_df.groupby('street')['is_fraud'].sum() "
   ]
  },
  {
   "cell_type": "code",
   "execution_count": 66,
   "id": "73116066",
   "metadata": {},
   "outputs": [],
   "source": [
    "final_df = final_df.merge(street_fraud_sum.rename('street_fraud_sum'), on='street', how='left')"
   ]
  },
  {
   "cell_type": "code",
   "execution_count": 67,
   "id": "e1002496",
   "metadata": {},
   "outputs": [
    {
     "data": {
      "text/plain": [
       "0         0\n",
       "1         0\n",
       "2         0\n",
       "3        15\n",
       "4         0\n",
       "         ..\n",
       "15007     3\n",
       "15008     3\n",
       "15009     2\n",
       "15010     6\n",
       "15011     2\n",
       "Name: street_fraud_sum, Length: 15012, dtype: int64"
      ]
     },
     "execution_count": 67,
     "metadata": {},
     "output_type": "execute_result"
    }
   ],
   "source": [
    "final_df['street_fraud_sum']"
   ]
  },
  {
   "cell_type": "code",
   "execution_count": 68,
   "id": "bcfe1e19",
   "metadata": {},
   "outputs": [],
   "source": [
    "street_fraud_count= final_df.groupby('street')['is_fraud'].count() "
   ]
  },
  {
   "cell_type": "code",
   "execution_count": 69,
   "id": "d11f298c",
   "metadata": {},
   "outputs": [],
   "source": [
    "final_df = final_df.merge(street_fraud_count.rename('street_fraud_count'), on='street', how='left')"
   ]
  },
  {
   "cell_type": "code",
   "execution_count": 75,
   "id": "2f593e2a",
   "metadata": {},
   "outputs": [
    {
     "data": {
      "text/html": [
       "<div>\n",
       "<style scoped>\n",
       "    .dataframe tbody tr th:only-of-type {\n",
       "        vertical-align: middle;\n",
       "    }\n",
       "\n",
       "    .dataframe tbody tr th {\n",
       "        vertical-align: top;\n",
       "    }\n",
       "\n",
       "    .dataframe thead th {\n",
       "        text-align: right;\n",
       "    }\n",
       "</style>\n",
       "<table border=\"1\" class=\"dataframe\">\n",
       "  <thead>\n",
       "    <tr style=\"text-align: right;\">\n",
       "      <th></th>\n",
       "      <th>street</th>\n",
       "      <th>street_fraud_count</th>\n",
       "      <th>street_fraud_sum</th>\n",
       "    </tr>\n",
       "  </thead>\n",
       "  <tbody>\n",
       "    <tr>\n",
       "      <th>5302</th>\n",
       "      <td>615 Clarke Spring Apt. 172</td>\n",
       "      <td>40</td>\n",
       "      <td>12</td>\n",
       "    </tr>\n",
       "    <tr>\n",
       "      <th>7253</th>\n",
       "      <td>615 Clarke Spring Apt. 172</td>\n",
       "      <td>40</td>\n",
       "      <td>12</td>\n",
       "    </tr>\n",
       "    <tr>\n",
       "      <th>8305</th>\n",
       "      <td>615 Clarke Spring Apt. 172</td>\n",
       "      <td>40</td>\n",
       "      <td>12</td>\n",
       "    </tr>\n",
       "    <tr>\n",
       "      <th>1570</th>\n",
       "      <td>615 Clarke Spring Apt. 172</td>\n",
       "      <td>40</td>\n",
       "      <td>12</td>\n",
       "    </tr>\n",
       "    <tr>\n",
       "      <th>1352</th>\n",
       "      <td>615 Clarke Spring Apt. 172</td>\n",
       "      <td>40</td>\n",
       "      <td>12</td>\n",
       "    </tr>\n",
       "    <tr>\n",
       "      <th>...</th>\n",
       "      <td>...</td>\n",
       "      <td>...</td>\n",
       "      <td>...</td>\n",
       "    </tr>\n",
       "    <tr>\n",
       "      <th>2594</th>\n",
       "      <td>96122 Steven Flat</td>\n",
       "      <td>1</td>\n",
       "      <td>0</td>\n",
       "    </tr>\n",
       "    <tr>\n",
       "      <th>1024</th>\n",
       "      <td>6313 Scott Trace</td>\n",
       "      <td>1</td>\n",
       "      <td>0</td>\n",
       "    </tr>\n",
       "    <tr>\n",
       "      <th>5928</th>\n",
       "      <td>17355 Mendoza Bypass Suite 059</td>\n",
       "      <td>1</td>\n",
       "      <td>0</td>\n",
       "    </tr>\n",
       "    <tr>\n",
       "      <th>105</th>\n",
       "      <td>022 Moore Island</td>\n",
       "      <td>1</td>\n",
       "      <td>0</td>\n",
       "    </tr>\n",
       "    <tr>\n",
       "      <th>2642</th>\n",
       "      <td>27720 Martin Hills</td>\n",
       "      <td>1</td>\n",
       "      <td>0</td>\n",
       "    </tr>\n",
       "  </tbody>\n",
       "</table>\n",
       "<p>15012 rows × 3 columns</p>\n",
       "</div>"
      ],
      "text/plain": [
       "                              street  street_fraud_count  street_fraud_sum\n",
       "5302      615 Clarke Spring Apt. 172                  40                12\n",
       "7253      615 Clarke Spring Apt. 172                  40                12\n",
       "8305      615 Clarke Spring Apt. 172                  40                12\n",
       "1570      615 Clarke Spring Apt. 172                  40                12\n",
       "1352      615 Clarke Spring Apt. 172                  40                12\n",
       "...                              ...                 ...               ...\n",
       "2594               96122 Steven Flat                   1                 0\n",
       "1024                6313 Scott Trace                   1                 0\n",
       "5928  17355 Mendoza Bypass Suite 059                   1                 0\n",
       "105                 022 Moore Island                   1                 0\n",
       "2642              27720 Martin Hills                   1                 0\n",
       "\n",
       "[15012 rows x 3 columns]"
      ]
     },
     "execution_count": 75,
     "metadata": {},
     "output_type": "execute_result"
    }
   ],
   "source": [
    "final_df[['street','street_fraud_count','street_fraud_sum']].sort_values('street_fraud_count',ascending=False)"
   ]
  },
  {
   "cell_type": "code",
   "execution_count": 76,
   "id": "fffae830",
   "metadata": {},
   "outputs": [
    {
     "data": {
      "text/plain": [
       "Index(['Unnamed: 0', 'trans_date_trans_time', 'cc_num', 'merchant', 'category',\n",
       "       'amt', 'gender', 'street', 'zip', 'lat', 'long', 'city_pop', 'job',\n",
       "       'dob', 'trans_num', 'unix_time', 'merch_lat', 'merch_long', 'is_fraud',\n",
       "       'perc_of_fraud', 'state_2', 'city_fraud', 'job_fraud', 'street_fraud',\n",
       "       'street_fraud_sum', 'street_fraud_count'],\n",
       "      dtype='object')"
      ]
     },
     "execution_count": 76,
     "metadata": {},
     "output_type": "execute_result"
    }
   ],
   "source": [
    "final_df.columns"
   ]
  },
  {
   "cell_type": "code",
   "execution_count": 77,
   "id": "05bc8ec6",
   "metadata": {},
   "outputs": [],
   "source": [
    "final_df.drop(['street_fraud','street_fraud_count'],axis=1,inplace=True) # so ultimatey we understod that the sum of Fraud for any street will\n",
    "# be a determining factor to annouce that particular street is fraud_prone"
   ]
  },
  {
   "cell_type": "markdown",
   "id": "a4d6f5c8",
   "metadata": {},
   "source": [
    "###  so ultimatey we understod that the sum of Fraud for any street will\n",
    "### be a determining factor to annouce that particular street is fraud_prone"
   ]
  },
  {
   "cell_type": "code",
   "execution_count": 78,
   "id": "6a5df0f1",
   "metadata": {},
   "outputs": [
    {
     "data": {
      "text/html": [
       "<div>\n",
       "<style scoped>\n",
       "    .dataframe tbody tr th:only-of-type {\n",
       "        vertical-align: middle;\n",
       "    }\n",
       "\n",
       "    .dataframe tbody tr th {\n",
       "        vertical-align: top;\n",
       "    }\n",
       "\n",
       "    .dataframe thead th {\n",
       "        text-align: right;\n",
       "    }\n",
       "</style>\n",
       "<table border=\"1\" class=\"dataframe\">\n",
       "  <thead>\n",
       "    <tr style=\"text-align: right;\">\n",
       "      <th></th>\n",
       "      <th>Unnamed: 0</th>\n",
       "      <th>trans_date_trans_time</th>\n",
       "      <th>cc_num</th>\n",
       "      <th>merchant</th>\n",
       "      <th>category</th>\n",
       "      <th>amt</th>\n",
       "      <th>gender</th>\n",
       "      <th>street</th>\n",
       "      <th>zip</th>\n",
       "      <th>lat</th>\n",
       "      <th>...</th>\n",
       "      <th>trans_num</th>\n",
       "      <th>unix_time</th>\n",
       "      <th>merch_lat</th>\n",
       "      <th>merch_long</th>\n",
       "      <th>is_fraud</th>\n",
       "      <th>perc_of_fraud</th>\n",
       "      <th>state_2</th>\n",
       "      <th>city_fraud</th>\n",
       "      <th>job_fraud</th>\n",
       "      <th>street_fraud_sum</th>\n",
       "    </tr>\n",
       "  </thead>\n",
       "  <tbody>\n",
       "    <tr>\n",
       "      <th>0</th>\n",
       "      <td>0</td>\n",
       "      <td>2019-01-01 00:00:18</td>\n",
       "      <td>2703186189652095</td>\n",
       "      <td>0.002065</td>\n",
       "      <td>12.0</td>\n",
       "      <td>4.97</td>\n",
       "      <td>1</td>\n",
       "      <td>561 Perry Cove</td>\n",
       "      <td>28654</td>\n",
       "      <td>36.0788</td>\n",
       "      <td>...</td>\n",
       "      <td>0b242abb623afc578575680df30655b9</td>\n",
       "      <td>1325376018</td>\n",
       "      <td>36.011293</td>\n",
       "      <td>-82.048315</td>\n",
       "      <td>0</td>\n",
       "      <td>0.5</td>\n",
       "      <td>21.0</td>\n",
       "      <td>0.000000</td>\n",
       "      <td>21.428571</td>\n",
       "      <td>0</td>\n",
       "    </tr>\n",
       "    <tr>\n",
       "      <th>1</th>\n",
       "      <td>1</td>\n",
       "      <td>2019-01-01 00:00:44</td>\n",
       "      <td>630423337322</td>\n",
       "      <td>0.002864</td>\n",
       "      <td>11.0</td>\n",
       "      <td>107.23</td>\n",
       "      <td>1</td>\n",
       "      <td>43039 Riley Greens Suite 393</td>\n",
       "      <td>99160</td>\n",
       "      <td>48.8878</td>\n",
       "      <td>...</td>\n",
       "      <td>1f76529f8574734946361c461b024d99</td>\n",
       "      <td>1325376044</td>\n",
       "      <td>49.159047</td>\n",
       "      <td>-118.186462</td>\n",
       "      <td>0</td>\n",
       "      <td>0.5</td>\n",
       "      <td>7.0</td>\n",
       "      <td>0.000000</td>\n",
       "      <td>19.642857</td>\n",
       "      <td>0</td>\n",
       "    </tr>\n",
       "    <tr>\n",
       "      <th>2</th>\n",
       "      <td>2</td>\n",
       "      <td>2019-01-01 00:00:51</td>\n",
       "      <td>38859492057661</td>\n",
       "      <td>0.001132</td>\n",
       "      <td>5.0</td>\n",
       "      <td>220.11</td>\n",
       "      <td>0</td>\n",
       "      <td>594 White Dale Suite 530</td>\n",
       "      <td>83252</td>\n",
       "      <td>42.1808</td>\n",
       "      <td>...</td>\n",
       "      <td>a1a22d70485983eac12b5b88dad1cf95</td>\n",
       "      <td>1325376051</td>\n",
       "      <td>43.150704</td>\n",
       "      <td>-112.154481</td>\n",
       "      <td>0</td>\n",
       "      <td>0.5</td>\n",
       "      <td>2.0</td>\n",
       "      <td>0.000000</td>\n",
       "      <td>61.538462</td>\n",
       "      <td>0</td>\n",
       "    </tr>\n",
       "    <tr>\n",
       "      <th>3</th>\n",
       "      <td>3</td>\n",
       "      <td>2019-01-01 00:01:16</td>\n",
       "      <td>3534093764340240</td>\n",
       "      <td>0.001399</td>\n",
       "      <td>9.0</td>\n",
       "      <td>45.00</td>\n",
       "      <td>0</td>\n",
       "      <td>9443 Cynthia Court Apt. 038</td>\n",
       "      <td>59632</td>\n",
       "      <td>46.2306</td>\n",
       "      <td>...</td>\n",
       "      <td>6b849c168bdad6f867558c3793159a81</td>\n",
       "      <td>1325376076</td>\n",
       "      <td>47.034331</td>\n",
       "      <td>-112.561071</td>\n",
       "      <td>0</td>\n",
       "      <td>0.5</td>\n",
       "      <td>3.0</td>\n",
       "      <td>0.789474</td>\n",
       "      <td>51.282051</td>\n",
       "      <td>15</td>\n",
       "    </tr>\n",
       "    <tr>\n",
       "      <th>4</th>\n",
       "      <td>4</td>\n",
       "      <td>2019-01-01 00:03:06</td>\n",
       "      <td>375534208663984</td>\n",
       "      <td>0.000933</td>\n",
       "      <td>8.0</td>\n",
       "      <td>41.96</td>\n",
       "      <td>0</td>\n",
       "      <td>408 Bradley Rest</td>\n",
       "      <td>24433</td>\n",
       "      <td>38.4207</td>\n",
       "      <td>...</td>\n",
       "      <td>a41d7549acf90789359a9aa5346dcb46</td>\n",
       "      <td>1325376186</td>\n",
       "      <td>38.674999</td>\n",
       "      <td>-78.632459</td>\n",
       "      <td>0</td>\n",
       "      <td>0.5</td>\n",
       "      <td>26.0</td>\n",
       "      <td>0.000000</td>\n",
       "      <td>0.000000</td>\n",
       "      <td>0</td>\n",
       "    </tr>\n",
       "    <tr>\n",
       "      <th>...</th>\n",
       "      <td>...</td>\n",
       "      <td>...</td>\n",
       "      <td>...</td>\n",
       "      <td>...</td>\n",
       "      <td>...</td>\n",
       "      <td>...</td>\n",
       "      <td>...</td>\n",
       "      <td>...</td>\n",
       "      <td>...</td>\n",
       "      <td>...</td>\n",
       "      <td>...</td>\n",
       "      <td>...</td>\n",
       "      <td>...</td>\n",
       "      <td>...</td>\n",
       "      <td>...</td>\n",
       "      <td>...</td>\n",
       "      <td>...</td>\n",
       "      <td>...</td>\n",
       "      <td>...</td>\n",
       "      <td>...</td>\n",
       "      <td>...</td>\n",
       "    </tr>\n",
       "    <tr>\n",
       "      <th>15007</th>\n",
       "      <td>1295399</td>\n",
       "      <td>2020-06-21 01:00:08</td>\n",
       "      <td>3524574586339330</td>\n",
       "      <td>0.002798</td>\n",
       "      <td>13.0</td>\n",
       "      <td>977.01</td>\n",
       "      <td>1</td>\n",
       "      <td>94225 Smith Springs Apt. 617</td>\n",
       "      <td>32960</td>\n",
       "      <td>27.6330</td>\n",
       "      <td>...</td>\n",
       "      <td>a83b093f0c1d9068fa0089f7c722615f</td>\n",
       "      <td>1371776408</td>\n",
       "      <td>26.888686</td>\n",
       "      <td>-80.834389</td>\n",
       "      <td>1</td>\n",
       "      <td>0.5</td>\n",
       "      <td>35.0</td>\n",
       "      <td>0.176471</td>\n",
       "      <td>29.032258</td>\n",
       "      <td>3</td>\n",
       "    </tr>\n",
       "    <tr>\n",
       "      <th>15008</th>\n",
       "      <td>1295491</td>\n",
       "      <td>2020-06-21 01:53:35</td>\n",
       "      <td>3524574586339330</td>\n",
       "      <td>0.003197</td>\n",
       "      <td>13.0</td>\n",
       "      <td>1210.91</td>\n",
       "      <td>1</td>\n",
       "      <td>94225 Smith Springs Apt. 617</td>\n",
       "      <td>32960</td>\n",
       "      <td>27.6330</td>\n",
       "      <td>...</td>\n",
       "      <td>f75b35bed13b9e692f170dba45a15b21</td>\n",
       "      <td>1371779615</td>\n",
       "      <td>28.216707</td>\n",
       "      <td>-79.855648</td>\n",
       "      <td>1</td>\n",
       "      <td>0.5</td>\n",
       "      <td>35.0</td>\n",
       "      <td>0.176471</td>\n",
       "      <td>29.032258</td>\n",
       "      <td>3</td>\n",
       "    </tr>\n",
       "    <tr>\n",
       "      <th>15009</th>\n",
       "      <td>1295532</td>\n",
       "      <td>2020-06-21 02:16:56</td>\n",
       "      <td>4005676619255478</td>\n",
       "      <td>0.001932</td>\n",
       "      <td>9.0</td>\n",
       "      <td>10.24</td>\n",
       "      <td>0</td>\n",
       "      <td>458 Phillips Island Apt. 768</td>\n",
       "      <td>70726</td>\n",
       "      <td>30.4590</td>\n",
       "      <td>...</td>\n",
       "      <td>a0ba2472cd3fc9731f2a18d3f308f5c3</td>\n",
       "      <td>1371781016</td>\n",
       "      <td>29.700456</td>\n",
       "      <td>-91.361632</td>\n",
       "      <td>1</td>\n",
       "      <td>0.5</td>\n",
       "      <td>5.0</td>\n",
       "      <td>0.166667</td>\n",
       "      <td>33.333333</td>\n",
       "      <td>2</td>\n",
       "    </tr>\n",
       "    <tr>\n",
       "      <th>15010</th>\n",
       "      <td>1295666</td>\n",
       "      <td>2020-06-21 03:26:20</td>\n",
       "      <td>3560725013359375</td>\n",
       "      <td>0.002265</td>\n",
       "      <td>9.0</td>\n",
       "      <td>21.69</td>\n",
       "      <td>1</td>\n",
       "      <td>63542 Luna Brook Apt. 012</td>\n",
       "      <td>79759</td>\n",
       "      <td>31.8599</td>\n",
       "      <td>...</td>\n",
       "      <td>daa281350b1e16093c7b4bf97bf4d6ed</td>\n",
       "      <td>1371785180</td>\n",
       "      <td>32.675272</td>\n",
       "      <td>-103.484949</td>\n",
       "      <td>1</td>\n",
       "      <td>0.5</td>\n",
       "      <td>16.0</td>\n",
       "      <td>0.400000</td>\n",
       "      <td>27.500000</td>\n",
       "      <td>6</td>\n",
       "    </tr>\n",
       "    <tr>\n",
       "      <th>15011</th>\n",
       "      <td>1295733</td>\n",
       "      <td>2020-06-21 03:59:46</td>\n",
       "      <td>4005676619255478</td>\n",
       "      <td>0.001799</td>\n",
       "      <td>9.0</td>\n",
       "      <td>10.20</td>\n",
       "      <td>0</td>\n",
       "      <td>458 Phillips Island Apt. 768</td>\n",
       "      <td>70726</td>\n",
       "      <td>30.4590</td>\n",
       "      <td>...</td>\n",
       "      <td>0c1c20470fc0d16019b5c368cadf563a</td>\n",
       "      <td>1371787186</td>\n",
       "      <td>31.363252</td>\n",
       "      <td>-89.932309</td>\n",
       "      <td>1</td>\n",
       "      <td>0.5</td>\n",
       "      <td>5.0</td>\n",
       "      <td>0.166667</td>\n",
       "      <td>33.333333</td>\n",
       "      <td>2</td>\n",
       "    </tr>\n",
       "  </tbody>\n",
       "</table>\n",
       "<p>15012 rows × 24 columns</p>\n",
       "</div>"
      ],
      "text/plain": [
       "       Unnamed: 0 trans_date_trans_time            cc_num  merchant  category  \\\n",
       "0               0   2019-01-01 00:00:18  2703186189652095  0.002065      12.0   \n",
       "1               1   2019-01-01 00:00:44      630423337322  0.002864      11.0   \n",
       "2               2   2019-01-01 00:00:51    38859492057661  0.001132       5.0   \n",
       "3               3   2019-01-01 00:01:16  3534093764340240  0.001399       9.0   \n",
       "4               4   2019-01-01 00:03:06   375534208663984  0.000933       8.0   \n",
       "...           ...                   ...               ...       ...       ...   \n",
       "15007     1295399   2020-06-21 01:00:08  3524574586339330  0.002798      13.0   \n",
       "15008     1295491   2020-06-21 01:53:35  3524574586339330  0.003197      13.0   \n",
       "15009     1295532   2020-06-21 02:16:56  4005676619255478  0.001932       9.0   \n",
       "15010     1295666   2020-06-21 03:26:20  3560725013359375  0.002265       9.0   \n",
       "15011     1295733   2020-06-21 03:59:46  4005676619255478  0.001799       9.0   \n",
       "\n",
       "           amt  gender                        street    zip      lat  ...  \\\n",
       "0         4.97       1                561 Perry Cove  28654  36.0788  ...   \n",
       "1       107.23       1  43039 Riley Greens Suite 393  99160  48.8878  ...   \n",
       "2       220.11       0      594 White Dale Suite 530  83252  42.1808  ...   \n",
       "3        45.00       0   9443 Cynthia Court Apt. 038  59632  46.2306  ...   \n",
       "4        41.96       0              408 Bradley Rest  24433  38.4207  ...   \n",
       "...        ...     ...                           ...    ...      ...  ...   \n",
       "15007   977.01       1  94225 Smith Springs Apt. 617  32960  27.6330  ...   \n",
       "15008  1210.91       1  94225 Smith Springs Apt. 617  32960  27.6330  ...   \n",
       "15009    10.24       0  458 Phillips Island Apt. 768  70726  30.4590  ...   \n",
       "15010    21.69       1     63542 Luna Brook Apt. 012  79759  31.8599  ...   \n",
       "15011    10.20       0  458 Phillips Island Apt. 768  70726  30.4590  ...   \n",
       "\n",
       "                              trans_num   unix_time  merch_lat  merch_long  \\\n",
       "0      0b242abb623afc578575680df30655b9  1325376018  36.011293  -82.048315   \n",
       "1      1f76529f8574734946361c461b024d99  1325376044  49.159047 -118.186462   \n",
       "2      a1a22d70485983eac12b5b88dad1cf95  1325376051  43.150704 -112.154481   \n",
       "3      6b849c168bdad6f867558c3793159a81  1325376076  47.034331 -112.561071   \n",
       "4      a41d7549acf90789359a9aa5346dcb46  1325376186  38.674999  -78.632459   \n",
       "...                                 ...         ...        ...         ...   \n",
       "15007  a83b093f0c1d9068fa0089f7c722615f  1371776408  26.888686  -80.834389   \n",
       "15008  f75b35bed13b9e692f170dba45a15b21  1371779615  28.216707  -79.855648   \n",
       "15009  a0ba2472cd3fc9731f2a18d3f308f5c3  1371781016  29.700456  -91.361632   \n",
       "15010  daa281350b1e16093c7b4bf97bf4d6ed  1371785180  32.675272 -103.484949   \n",
       "15011  0c1c20470fc0d16019b5c368cadf563a  1371787186  31.363252  -89.932309   \n",
       "\n",
       "      is_fraud  perc_of_fraud  state_2  city_fraud  job_fraud  \\\n",
       "0            0            0.5     21.0    0.000000  21.428571   \n",
       "1            0            0.5      7.0    0.000000  19.642857   \n",
       "2            0            0.5      2.0    0.000000  61.538462   \n",
       "3            0            0.5      3.0    0.789474  51.282051   \n",
       "4            0            0.5     26.0    0.000000   0.000000   \n",
       "...        ...            ...      ...         ...        ...   \n",
       "15007        1            0.5     35.0    0.176471  29.032258   \n",
       "15008        1            0.5     35.0    0.176471  29.032258   \n",
       "15009        1            0.5      5.0    0.166667  33.333333   \n",
       "15010        1            0.5     16.0    0.400000  27.500000   \n",
       "15011        1            0.5      5.0    0.166667  33.333333   \n",
       "\n",
       "       street_fraud_sum  \n",
       "0                     0  \n",
       "1                     0  \n",
       "2                     0  \n",
       "3                    15  \n",
       "4                     0  \n",
       "...                 ...  \n",
       "15007                 3  \n",
       "15008                 3  \n",
       "15009                 2  \n",
       "15010                 6  \n",
       "15011                 2  \n",
       "\n",
       "[15012 rows x 24 columns]"
      ]
     },
     "execution_count": 78,
     "metadata": {},
     "output_type": "execute_result"
    }
   ],
   "source": [
    "final_df"
   ]
  },
  {
   "cell_type": "code",
   "execution_count": 80,
   "id": "88eaea08",
   "metadata": {},
   "outputs": [
    {
     "data": {
      "text/plain": [
       "Index(['trans_date_trans_time', 'street', 'job', 'dob', 'trans_num'], dtype='object')"
      ]
     },
     "execution_count": 80,
     "metadata": {},
     "output_type": "execute_result"
    }
   ],
   "source": [
    "final_df.select_dtypes(include='object').columns"
   ]
  },
  {
   "cell_type": "code",
   "execution_count": 82,
   "id": "9c63d392",
   "metadata": {},
   "outputs": [],
   "source": [
    "final_df.drop(['street','job','trans_num'],axis=1,inplace=True)"
   ]
  },
  {
   "cell_type": "code",
   "execution_count": 90,
   "id": "48ed26cd",
   "metadata": {},
   "outputs": [],
   "source": [
    "final_df['trans_date_trans_time'] = pd.to_datetime(final_df['trans_date_trans_time'])"
   ]
  },
  {
   "cell_type": "code",
   "execution_count": 91,
   "id": "79f1be0a",
   "metadata": {},
   "outputs": [
    {
     "name": "stdout",
     "output_type": "stream",
     "text": [
      "<class 'pandas.core.series.Series'>\n",
      "RangeIndex: 15012 entries, 0 to 15011\n",
      "Series name: trans_date_trans_time\n",
      "Non-Null Count  Dtype         \n",
      "--------------  -----         \n",
      "15012 non-null  datetime64[ns]\n",
      "dtypes: datetime64[ns](1)\n",
      "memory usage: 117.4 KB\n"
     ]
    }
   ],
   "source": [
    "final_df['trans_date_trans_time'].info()"
   ]
  },
  {
   "cell_type": "code",
   "execution_count": 92,
   "id": "5db78dba",
   "metadata": {},
   "outputs": [
    {
     "data": {
      "text/plain": [
       "Index(['dob'], dtype='object')"
      ]
     },
     "execution_count": 92,
     "metadata": {},
     "output_type": "execute_result"
    }
   ],
   "source": [
    "final_df.select_dtypes(include='object').columns"
   ]
  },
  {
   "cell_type": "code",
   "execution_count": 93,
   "id": "bcc36cee",
   "metadata": {},
   "outputs": [
    {
     "data": {
      "text/plain": [
       "0        1988-03-09\n",
       "1        1978-06-21\n",
       "2        1962-01-19\n",
       "3        1967-01-12\n",
       "4        1986-03-28\n",
       "            ...    \n",
       "15007    1986-05-07\n",
       "15008    1986-05-07\n",
       "15009    1994-05-31\n",
       "15010    1969-09-15\n",
       "15011    1994-05-31\n",
       "Name: dob, Length: 15012, dtype: object"
      ]
     },
     "execution_count": 93,
     "metadata": {},
     "output_type": "execute_result"
    }
   ],
   "source": [
    "final_df['dob'] "
   ]
  },
  {
   "cell_type": "code",
   "execution_count": 98,
   "id": "a261829b",
   "metadata": {},
   "outputs": [],
   "source": [
    "final_df['dob'] = pd.to_datetime(final_df['dob'],errors='coerce').dt.date "
   ]
  },
  {
   "cell_type": "code",
   "execution_count": 99,
   "id": "10d64f83",
   "metadata": {},
   "outputs": [
    {
     "name": "stdout",
     "output_type": "stream",
     "text": [
      "<class 'pandas.core.series.Series'>\n",
      "RangeIndex: 15012 entries, 0 to 15011\n",
      "Series name: dob\n",
      "Non-Null Count  Dtype \n",
      "--------------  ----- \n",
      "15012 non-null  object\n",
      "dtypes: object(1)\n",
      "memory usage: 117.4+ KB\n"
     ]
    }
   ],
   "source": [
    "final_df['dob'].info()"
   ]
  },
  {
   "cell_type": "code",
   "execution_count": 100,
   "id": "218bb482",
   "metadata": {},
   "outputs": [],
   "source": [
    "final_df['dob'] = pd.to_datetime(final_df['dob']).dt.floor('D')"
   ]
  },
  {
   "cell_type": "code",
   "execution_count": 101,
   "id": "b1029cf5",
   "metadata": {},
   "outputs": [
    {
     "name": "stdout",
     "output_type": "stream",
     "text": [
      "<class 'pandas.core.series.Series'>\n",
      "RangeIndex: 15012 entries, 0 to 15011\n",
      "Series name: dob\n",
      "Non-Null Count  Dtype         \n",
      "--------------  -----         \n",
      "15012 non-null  datetime64[ns]\n",
      "dtypes: datetime64[ns](1)\n",
      "memory usage: 117.4 KB\n"
     ]
    }
   ],
   "source": [
    "final_df['dob'].info()"
   ]
  },
  {
   "cell_type": "code",
   "execution_count": 102,
   "id": "176f7007",
   "metadata": {},
   "outputs": [
    {
     "data": {
      "text/plain": [
       "Index([], dtype='object')"
      ]
     },
     "execution_count": 102,
     "metadata": {},
     "output_type": "execute_result"
    }
   ],
   "source": [
    "final_df.select_dtypes(include='object').columns"
   ]
  },
  {
   "cell_type": "code",
   "execution_count": 103,
   "id": "fd06a0f2",
   "metadata": {},
   "outputs": [
    {
     "name": "stdout",
     "output_type": "stream",
     "text": [
      "<class 'pandas.core.frame.DataFrame'>\n",
      "RangeIndex: 15012 entries, 0 to 15011\n",
      "Data columns (total 21 columns):\n",
      " #   Column                 Non-Null Count  Dtype         \n",
      "---  ------                 --------------  -----         \n",
      " 0   Unnamed: 0             15012 non-null  int64         \n",
      " 1   trans_date_trans_time  15012 non-null  datetime64[ns]\n",
      " 2   cc_num                 15012 non-null  int64         \n",
      " 3   merchant               15012 non-null  float64       \n",
      " 4   category               15012 non-null  float64       \n",
      " 5   amt                    15012 non-null  float64       \n",
      " 6   gender                 15012 non-null  int64         \n",
      " 7   zip                    15012 non-null  int64         \n",
      " 8   lat                    15012 non-null  float64       \n",
      " 9   long                   15012 non-null  float64       \n",
      " 10  city_pop               15012 non-null  int64         \n",
      " 11  dob                    15012 non-null  datetime64[ns]\n",
      " 12  unix_time              15012 non-null  int64         \n",
      " 13  merch_lat              15012 non-null  float64       \n",
      " 14  merch_long             15012 non-null  float64       \n",
      " 15  is_fraud               15012 non-null  int64         \n",
      " 16  perc_of_fraud          15012 non-null  float64       \n",
      " 17  state_2                15012 non-null  float64       \n",
      " 18  city_fraud             15012 non-null  float64       \n",
      " 19  job_fraud              15012 non-null  float64       \n",
      " 20  street_fraud_sum       15012 non-null  int64         \n",
      "dtypes: datetime64[ns](2), float64(11), int64(8)\n",
      "memory usage: 2.4 MB\n"
     ]
    }
   ],
   "source": [
    "final_df.info()"
   ]
  },
  {
   "cell_type": "code",
   "execution_count": 104,
   "id": "7a776140",
   "metadata": {},
   "outputs": [
    {
     "data": {
      "text/html": [
       "<div>\n",
       "<style scoped>\n",
       "    .dataframe tbody tr th:only-of-type {\n",
       "        vertical-align: middle;\n",
       "    }\n",
       "\n",
       "    .dataframe tbody tr th {\n",
       "        vertical-align: top;\n",
       "    }\n",
       "\n",
       "    .dataframe thead th {\n",
       "        text-align: right;\n",
       "    }\n",
       "</style>\n",
       "<table border=\"1\" class=\"dataframe\">\n",
       "  <thead>\n",
       "    <tr style=\"text-align: right;\">\n",
       "      <th></th>\n",
       "      <th>Unnamed: 0</th>\n",
       "      <th>trans_date_trans_time</th>\n",
       "      <th>cc_num</th>\n",
       "      <th>merchant</th>\n",
       "      <th>category</th>\n",
       "      <th>amt</th>\n",
       "      <th>gender</th>\n",
       "      <th>zip</th>\n",
       "      <th>lat</th>\n",
       "      <th>long</th>\n",
       "      <th>...</th>\n",
       "      <th>dob</th>\n",
       "      <th>unix_time</th>\n",
       "      <th>merch_lat</th>\n",
       "      <th>merch_long</th>\n",
       "      <th>is_fraud</th>\n",
       "      <th>perc_of_fraud</th>\n",
       "      <th>state_2</th>\n",
       "      <th>city_fraud</th>\n",
       "      <th>job_fraud</th>\n",
       "      <th>street_fraud_sum</th>\n",
       "    </tr>\n",
       "  </thead>\n",
       "  <tbody>\n",
       "    <tr>\n",
       "      <th>0</th>\n",
       "      <td>0</td>\n",
       "      <td>2019-01-01 00:00:18</td>\n",
       "      <td>2703186189652095</td>\n",
       "      <td>0.002065</td>\n",
       "      <td>12.0</td>\n",
       "      <td>4.97</td>\n",
       "      <td>1</td>\n",
       "      <td>28654</td>\n",
       "      <td>36.0788</td>\n",
       "      <td>-81.1781</td>\n",
       "      <td>...</td>\n",
       "      <td>1988-03-09</td>\n",
       "      <td>1325376018</td>\n",
       "      <td>36.011293</td>\n",
       "      <td>-82.048315</td>\n",
       "      <td>0</td>\n",
       "      <td>0.5</td>\n",
       "      <td>21.0</td>\n",
       "      <td>0.000000</td>\n",
       "      <td>21.428571</td>\n",
       "      <td>0</td>\n",
       "    </tr>\n",
       "    <tr>\n",
       "      <th>1</th>\n",
       "      <td>1</td>\n",
       "      <td>2019-01-01 00:00:44</td>\n",
       "      <td>630423337322</td>\n",
       "      <td>0.002864</td>\n",
       "      <td>11.0</td>\n",
       "      <td>107.23</td>\n",
       "      <td>1</td>\n",
       "      <td>99160</td>\n",
       "      <td>48.8878</td>\n",
       "      <td>-118.2105</td>\n",
       "      <td>...</td>\n",
       "      <td>1978-06-21</td>\n",
       "      <td>1325376044</td>\n",
       "      <td>49.159047</td>\n",
       "      <td>-118.186462</td>\n",
       "      <td>0</td>\n",
       "      <td>0.5</td>\n",
       "      <td>7.0</td>\n",
       "      <td>0.000000</td>\n",
       "      <td>19.642857</td>\n",
       "      <td>0</td>\n",
       "    </tr>\n",
       "    <tr>\n",
       "      <th>2</th>\n",
       "      <td>2</td>\n",
       "      <td>2019-01-01 00:00:51</td>\n",
       "      <td>38859492057661</td>\n",
       "      <td>0.001132</td>\n",
       "      <td>5.0</td>\n",
       "      <td>220.11</td>\n",
       "      <td>0</td>\n",
       "      <td>83252</td>\n",
       "      <td>42.1808</td>\n",
       "      <td>-112.2620</td>\n",
       "      <td>...</td>\n",
       "      <td>1962-01-19</td>\n",
       "      <td>1325376051</td>\n",
       "      <td>43.150704</td>\n",
       "      <td>-112.154481</td>\n",
       "      <td>0</td>\n",
       "      <td>0.5</td>\n",
       "      <td>2.0</td>\n",
       "      <td>0.000000</td>\n",
       "      <td>61.538462</td>\n",
       "      <td>0</td>\n",
       "    </tr>\n",
       "    <tr>\n",
       "      <th>3</th>\n",
       "      <td>3</td>\n",
       "      <td>2019-01-01 00:01:16</td>\n",
       "      <td>3534093764340240</td>\n",
       "      <td>0.001399</td>\n",
       "      <td>9.0</td>\n",
       "      <td>45.00</td>\n",
       "      <td>0</td>\n",
       "      <td>59632</td>\n",
       "      <td>46.2306</td>\n",
       "      <td>-112.1138</td>\n",
       "      <td>...</td>\n",
       "      <td>1967-01-12</td>\n",
       "      <td>1325376076</td>\n",
       "      <td>47.034331</td>\n",
       "      <td>-112.561071</td>\n",
       "      <td>0</td>\n",
       "      <td>0.5</td>\n",
       "      <td>3.0</td>\n",
       "      <td>0.789474</td>\n",
       "      <td>51.282051</td>\n",
       "      <td>15</td>\n",
       "    </tr>\n",
       "    <tr>\n",
       "      <th>4</th>\n",
       "      <td>4</td>\n",
       "      <td>2019-01-01 00:03:06</td>\n",
       "      <td>375534208663984</td>\n",
       "      <td>0.000933</td>\n",
       "      <td>8.0</td>\n",
       "      <td>41.96</td>\n",
       "      <td>0</td>\n",
       "      <td>24433</td>\n",
       "      <td>38.4207</td>\n",
       "      <td>-79.4629</td>\n",
       "      <td>...</td>\n",
       "      <td>1986-03-28</td>\n",
       "      <td>1325376186</td>\n",
       "      <td>38.674999</td>\n",
       "      <td>-78.632459</td>\n",
       "      <td>0</td>\n",
       "      <td>0.5</td>\n",
       "      <td>26.0</td>\n",
       "      <td>0.000000</td>\n",
       "      <td>0.000000</td>\n",
       "      <td>0</td>\n",
       "    </tr>\n",
       "    <tr>\n",
       "      <th>...</th>\n",
       "      <td>...</td>\n",
       "      <td>...</td>\n",
       "      <td>...</td>\n",
       "      <td>...</td>\n",
       "      <td>...</td>\n",
       "      <td>...</td>\n",
       "      <td>...</td>\n",
       "      <td>...</td>\n",
       "      <td>...</td>\n",
       "      <td>...</td>\n",
       "      <td>...</td>\n",
       "      <td>...</td>\n",
       "      <td>...</td>\n",
       "      <td>...</td>\n",
       "      <td>...</td>\n",
       "      <td>...</td>\n",
       "      <td>...</td>\n",
       "      <td>...</td>\n",
       "      <td>...</td>\n",
       "      <td>...</td>\n",
       "      <td>...</td>\n",
       "    </tr>\n",
       "    <tr>\n",
       "      <th>15007</th>\n",
       "      <td>1295399</td>\n",
       "      <td>2020-06-21 01:00:08</td>\n",
       "      <td>3524574586339330</td>\n",
       "      <td>0.002798</td>\n",
       "      <td>13.0</td>\n",
       "      <td>977.01</td>\n",
       "      <td>1</td>\n",
       "      <td>32960</td>\n",
       "      <td>27.6330</td>\n",
       "      <td>-80.4031</td>\n",
       "      <td>...</td>\n",
       "      <td>1986-05-07</td>\n",
       "      <td>1371776408</td>\n",
       "      <td>26.888686</td>\n",
       "      <td>-80.834389</td>\n",
       "      <td>1</td>\n",
       "      <td>0.5</td>\n",
       "      <td>35.0</td>\n",
       "      <td>0.176471</td>\n",
       "      <td>29.032258</td>\n",
       "      <td>3</td>\n",
       "    </tr>\n",
       "    <tr>\n",
       "      <th>15008</th>\n",
       "      <td>1295491</td>\n",
       "      <td>2020-06-21 01:53:35</td>\n",
       "      <td>3524574586339330</td>\n",
       "      <td>0.003197</td>\n",
       "      <td>13.0</td>\n",
       "      <td>1210.91</td>\n",
       "      <td>1</td>\n",
       "      <td>32960</td>\n",
       "      <td>27.6330</td>\n",
       "      <td>-80.4031</td>\n",
       "      <td>...</td>\n",
       "      <td>1986-05-07</td>\n",
       "      <td>1371779615</td>\n",
       "      <td>28.216707</td>\n",
       "      <td>-79.855648</td>\n",
       "      <td>1</td>\n",
       "      <td>0.5</td>\n",
       "      <td>35.0</td>\n",
       "      <td>0.176471</td>\n",
       "      <td>29.032258</td>\n",
       "      <td>3</td>\n",
       "    </tr>\n",
       "    <tr>\n",
       "      <th>15009</th>\n",
       "      <td>1295532</td>\n",
       "      <td>2020-06-21 02:16:56</td>\n",
       "      <td>4005676619255478</td>\n",
       "      <td>0.001932</td>\n",
       "      <td>9.0</td>\n",
       "      <td>10.24</td>\n",
       "      <td>0</td>\n",
       "      <td>70726</td>\n",
       "      <td>30.4590</td>\n",
       "      <td>-90.9027</td>\n",
       "      <td>...</td>\n",
       "      <td>1994-05-31</td>\n",
       "      <td>1371781016</td>\n",
       "      <td>29.700456</td>\n",
       "      <td>-91.361632</td>\n",
       "      <td>1</td>\n",
       "      <td>0.5</td>\n",
       "      <td>5.0</td>\n",
       "      <td>0.166667</td>\n",
       "      <td>33.333333</td>\n",
       "      <td>2</td>\n",
       "    </tr>\n",
       "    <tr>\n",
       "      <th>15010</th>\n",
       "      <td>1295666</td>\n",
       "      <td>2020-06-21 03:26:20</td>\n",
       "      <td>3560725013359375</td>\n",
       "      <td>0.002265</td>\n",
       "      <td>9.0</td>\n",
       "      <td>21.69</td>\n",
       "      <td>1</td>\n",
       "      <td>79759</td>\n",
       "      <td>31.8599</td>\n",
       "      <td>-102.7413</td>\n",
       "      <td>...</td>\n",
       "      <td>1969-09-15</td>\n",
       "      <td>1371785180</td>\n",
       "      <td>32.675272</td>\n",
       "      <td>-103.484949</td>\n",
       "      <td>1</td>\n",
       "      <td>0.5</td>\n",
       "      <td>16.0</td>\n",
       "      <td>0.400000</td>\n",
       "      <td>27.500000</td>\n",
       "      <td>6</td>\n",
       "    </tr>\n",
       "    <tr>\n",
       "      <th>15011</th>\n",
       "      <td>1295733</td>\n",
       "      <td>2020-06-21 03:59:46</td>\n",
       "      <td>4005676619255478</td>\n",
       "      <td>0.001799</td>\n",
       "      <td>9.0</td>\n",
       "      <td>10.20</td>\n",
       "      <td>0</td>\n",
       "      <td>70726</td>\n",
       "      <td>30.4590</td>\n",
       "      <td>-90.9027</td>\n",
       "      <td>...</td>\n",
       "      <td>1994-05-31</td>\n",
       "      <td>1371787186</td>\n",
       "      <td>31.363252</td>\n",
       "      <td>-89.932309</td>\n",
       "      <td>1</td>\n",
       "      <td>0.5</td>\n",
       "      <td>5.0</td>\n",
       "      <td>0.166667</td>\n",
       "      <td>33.333333</td>\n",
       "      <td>2</td>\n",
       "    </tr>\n",
       "  </tbody>\n",
       "</table>\n",
       "<p>15012 rows × 21 columns</p>\n",
       "</div>"
      ],
      "text/plain": [
       "       Unnamed: 0 trans_date_trans_time            cc_num  merchant  category  \\\n",
       "0               0   2019-01-01 00:00:18  2703186189652095  0.002065      12.0   \n",
       "1               1   2019-01-01 00:00:44      630423337322  0.002864      11.0   \n",
       "2               2   2019-01-01 00:00:51    38859492057661  0.001132       5.0   \n",
       "3               3   2019-01-01 00:01:16  3534093764340240  0.001399       9.0   \n",
       "4               4   2019-01-01 00:03:06   375534208663984  0.000933       8.0   \n",
       "...           ...                   ...               ...       ...       ...   \n",
       "15007     1295399   2020-06-21 01:00:08  3524574586339330  0.002798      13.0   \n",
       "15008     1295491   2020-06-21 01:53:35  3524574586339330  0.003197      13.0   \n",
       "15009     1295532   2020-06-21 02:16:56  4005676619255478  0.001932       9.0   \n",
       "15010     1295666   2020-06-21 03:26:20  3560725013359375  0.002265       9.0   \n",
       "15011     1295733   2020-06-21 03:59:46  4005676619255478  0.001799       9.0   \n",
       "\n",
       "           amt  gender    zip      lat      long  ...        dob   unix_time  \\\n",
       "0         4.97       1  28654  36.0788  -81.1781  ... 1988-03-09  1325376018   \n",
       "1       107.23       1  99160  48.8878 -118.2105  ... 1978-06-21  1325376044   \n",
       "2       220.11       0  83252  42.1808 -112.2620  ... 1962-01-19  1325376051   \n",
       "3        45.00       0  59632  46.2306 -112.1138  ... 1967-01-12  1325376076   \n",
       "4        41.96       0  24433  38.4207  -79.4629  ... 1986-03-28  1325376186   \n",
       "...        ...     ...    ...      ...       ...  ...        ...         ...   \n",
       "15007   977.01       1  32960  27.6330  -80.4031  ... 1986-05-07  1371776408   \n",
       "15008  1210.91       1  32960  27.6330  -80.4031  ... 1986-05-07  1371779615   \n",
       "15009    10.24       0  70726  30.4590  -90.9027  ... 1994-05-31  1371781016   \n",
       "15010    21.69       1  79759  31.8599 -102.7413  ... 1969-09-15  1371785180   \n",
       "15011    10.20       0  70726  30.4590  -90.9027  ... 1994-05-31  1371787186   \n",
       "\n",
       "       merch_lat  merch_long  is_fraud  perc_of_fraud  state_2  city_fraud  \\\n",
       "0      36.011293  -82.048315         0            0.5     21.0    0.000000   \n",
       "1      49.159047 -118.186462         0            0.5      7.0    0.000000   \n",
       "2      43.150704 -112.154481         0            0.5      2.0    0.000000   \n",
       "3      47.034331 -112.561071         0            0.5      3.0    0.789474   \n",
       "4      38.674999  -78.632459         0            0.5     26.0    0.000000   \n",
       "...          ...         ...       ...            ...      ...         ...   \n",
       "15007  26.888686  -80.834389         1            0.5     35.0    0.176471   \n",
       "15008  28.216707  -79.855648         1            0.5     35.0    0.176471   \n",
       "15009  29.700456  -91.361632         1            0.5      5.0    0.166667   \n",
       "15010  32.675272 -103.484949         1            0.5     16.0    0.400000   \n",
       "15011  31.363252  -89.932309         1            0.5      5.0    0.166667   \n",
       "\n",
       "       job_fraud  street_fraud_sum  \n",
       "0      21.428571                 0  \n",
       "1      19.642857                 0  \n",
       "2      61.538462                 0  \n",
       "3      51.282051                15  \n",
       "4       0.000000                 0  \n",
       "...          ...               ...  \n",
       "15007  29.032258                 3  \n",
       "15008  29.032258                 3  \n",
       "15009  33.333333                 2  \n",
       "15010  27.500000                 6  \n",
       "15011  33.333333                 2  \n",
       "\n",
       "[15012 rows x 21 columns]"
      ]
     },
     "execution_count": 104,
     "metadata": {},
     "output_type": "execute_result"
    }
   ],
   "source": [
    "final_df"
   ]
  },
  {
   "cell_type": "code",
   "execution_count": null,
   "id": "919ab832",
   "metadata": {},
   "outputs": [],
   "source": [
    "#"
   ]
  }
 ],
 "metadata": {
  "kernelspec": {
   "display_name": "Python 3 (ipykernel)",
   "language": "python",
   "name": "python3"
  },
  "language_info": {
   "codemirror_mode": {
    "name": "ipython",
    "version": 3
   },
   "file_extension": ".py",
   "mimetype": "text/x-python",
   "name": "python",
   "nbconvert_exporter": "python",
   "pygments_lexer": "ipython3",
   "version": "3.12.7"
  }
 },
 "nbformat": 4,
 "nbformat_minor": 5
}
